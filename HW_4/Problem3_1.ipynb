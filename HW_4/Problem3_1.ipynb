{
  "nbformat": 4,
  "nbformat_minor": 0,
  "metadata": {
    "colab": {
      "name": "Copy of pretrained_convnet_finetuning.ipynb",
      "provenance": [],
      "include_colab_link": true
    },
    "kernelspec": {
      "name": "python3",
      "display_name": "Python 3"
    },
    "accelerator": "GPU"
  },
  "cells": [
    {
      "cell_type": "markdown",
      "metadata": {
        "id": "view-in-github",
        "colab_type": "text"
      },
      "source": [
        "<a href=\"https://colab.research.google.com/github/Xylenox/CAP4630/blob/master/HW_4/Problem3_1.ipynb\" target=\"_parent\"><img src=\"https://colab.research.google.com/assets/colab-badge.svg\" alt=\"Open In Colab\"/></a>"
      ]
    },
    {
      "cell_type": "markdown",
      "metadata": {
        "id": "KSrgMJ5vKFzQ",
        "colab_type": "text"
      },
      "source": [
        "# Fine-tuning VGG16 "
      ]
    },
    {
      "cell_type": "markdown",
      "metadata": {
        "id": "TIW7bZaAK-Hf",
        "colab_type": "text"
      },
      "source": [
        "This is based on section 5.3 *Using a pretrained convnet* of the book *Deep learning with Python* by Francois Chollet. I have made several changes to the code. I use the data that is already provided by Google. I don't download the data from Kaggle as in the deep learning book."
      ]
    },
    {
      "cell_type": "markdown",
      "metadata": {
        "id": "nsBq__dVo2pj",
        "colab_type": "text"
      },
      "source": [
        "## Feature extraction"
      ]
    },
    {
      "cell_type": "markdown",
      "metadata": {
        "id": "0g6ETAM9o54M",
        "colab_type": "text"
      },
      "source": [
        "Feature extraction consists of using the representations learned by a previous network to extract interesting features from new samples. These features are then run through a new classifier, which is trained from scratch.\n",
        "\n",
        "We will use here the convolutional base of the VGG16 model to extract the features. We will feed these features to a densely connected classifier with dropout. We will fine-tune some layers."
      ]
    },
    {
      "cell_type": "markdown",
      "metadata": {
        "id": "BqIG8QHMLNOn",
        "colab_type": "text"
      },
      "source": [
        "## Download the data"
      ]
    },
    {
      "cell_type": "markdown",
      "metadata": {
        "id": "t3I1jd7cKV6_",
        "colab_type": "text"
      },
      "source": [
        "Download the example data, a zip. of 2,000 JPG pictures of cats and dogs and extract it locally in ```/tmp```.\n",
        "\n"
      ]
    },
    {
      "cell_type": "code",
      "metadata": {
        "id": "JWjprHEXJ5Qi",
        "colab_type": "code",
        "outputId": "fab767ff-7f8a-46be-f914-19699e05ef32",
        "colab": {
          "base_uri": "https://localhost:8080/",
          "height": 219
        }
      },
      "source": [
        "!wget --no-check-certificate \\\n",
        "    https://storage.googleapis.com/mledu-datasets/cats_and_dogs_filtered.zip \\\n",
        "    -O /tmp/cats_and_dogs_filtered.zip"
      ],
      "execution_count": 0,
      "outputs": [
        {
          "output_type": "stream",
          "text": [
            "--2020-04-08 18:30:05--  https://storage.googleapis.com/mledu-datasets/cats_and_dogs_filtered.zip\n",
            "Resolving storage.googleapis.com (storage.googleapis.com)... 74.125.195.128, 2607:f8b0:400e:c08::80\n",
            "Connecting to storage.googleapis.com (storage.googleapis.com)|74.125.195.128|:443... connected.\n",
            "HTTP request sent, awaiting response... 200 OK\n",
            "Length: 68606236 (65M) [application/zip]\n",
            "Saving to: ‘/tmp/cats_and_dogs_filtered.zip’\n",
            "\n",
            "/tmp/cats_and_dogs_ 100%[===================>]  65.43M   147MB/s    in 0.4s    \n",
            "\n",
            "2020-04-08 18:30:05 (147 MB/s) - ‘/tmp/cats_and_dogs_filtered.zip’ saved [68606236/68606236]\n",
            "\n"
          ],
          "name": "stdout"
        }
      ]
    },
    {
      "cell_type": "code",
      "metadata": {
        "id": "WvoHtdA-K6Rw",
        "colab_type": "code",
        "colab": {}
      },
      "source": [
        "import os\n",
        "import zipfile\n",
        "\n",
        "local_zip = '/tmp/cats_and_dogs_filtered.zip'\n",
        "zip_ref = zipfile.ZipFile(local_zip, 'r')\n",
        "zip_ref.extractall('/tmp')\n",
        "zip_ref.close()"
      ],
      "execution_count": 0,
      "outputs": []
    },
    {
      "cell_type": "markdown",
      "metadata": {
        "id": "shZiOBnJMyy_",
        "colab_type": "text"
      },
      "source": [
        "Note that the data provided by Google does not have a test set."
      ]
    },
    {
      "cell_type": "code",
      "metadata": {
        "id": "dL8ikM89LlsH",
        "colab_type": "code",
        "colab": {}
      },
      "source": [
        "base_dir = '/tmp/cats_and_dogs_filtered'\n",
        "train_dir = os.path.join(base_dir, 'train')\n",
        "validation_dir = os.path.join(base_dir, 'validation')\n",
        "\n",
        "# Directory with our training cat pictures\n",
        "train_cats_dir = os.path.join(train_dir, 'cats')\n",
        "\n",
        "# Directory with our training dog pictures\n",
        "train_dogs_dir = os.path.join(train_dir, 'dogs')\n",
        "\n",
        "# Directory with our validation cat pictures\n",
        "validation_cats_dir = os.path.join(validation_dir, 'cats')\n",
        "\n",
        "# Directory with our validation dog pictures\n",
        "validation_dogs_dir = os.path.join(validation_dir, 'dogs')"
      ],
      "execution_count": 0,
      "outputs": []
    },
    {
      "cell_type": "markdown",
      "metadata": {
        "id": "inyP8bcdXnn-",
        "colab_type": "text"
      },
      "source": [
        "## Build network with VGG16 convolution base and custom densely connected layers"
      ]
    },
    {
      "cell_type": "markdown",
      "metadata": {
        "id": "kQ48W5T9rHWu",
        "colab_type": "text"
      },
      "source": [
        "### Load the convolutional base"
      ]
    },
    {
      "cell_type": "code",
      "metadata": {
        "id": "Y0FgtANCXm_H",
        "colab_type": "code",
        "colab": {}
      },
      "source": [
        "%tensorflow_version 2.x\n",
        "\n",
        "import tensorflow as tf\n",
        "from tensorflow.keras.applications import Xception\n",
        "\n",
        "conv_base = Xception(\n",
        "    weights='imagenet', \n",
        "    include_top=False, \n",
        "    input_shape=(150, 150, 3))"
      ],
      "execution_count": 0,
      "outputs": []
    },
    {
      "cell_type": "markdown",
      "metadata": {
        "id": "D6OBHOO9q1ou",
        "colab_type": "text"
      },
      "source": [
        "### Freeze the convolutional base"
      ]
    },
    {
      "cell_type": "code",
      "metadata": {
        "id": "UleRo4Dpq6Ld",
        "colab_type": "code",
        "colab": {}
      },
      "source": [
        "conv_base.trainable = False"
      ],
      "execution_count": 0,
      "outputs": []
    },
    {
      "cell_type": "markdown",
      "metadata": {
        "id": "Qfx6PqhPrb7Q",
        "colab_type": "text"
      },
      "source": [
        "### Concatenate the convolutional base and densely connected layers"
      ]
    },
    {
      "cell_type": "code",
      "metadata": {
        "id": "qUpmocDAO3xm",
        "colab_type": "code",
        "colab": {}
      },
      "source": [
        "from tensorflow.keras import layers\n",
        "from tensorflow.keras import models\n",
        "from tensorflow.keras import optimizers\n",
        "\n",
        "model = models.Sequential()\n",
        "model.add(conv_base)\n",
        "model.add(layers.Flatten())\n",
        "model.add(layers.Dense(256, activation='relu'))\n",
        "#model.add(layers.Dropout(0.1))\n",
        "model.add(layers.Dense(1, activation='sigmoid'))"
      ],
      "execution_count": 0,
      "outputs": []
    },
    {
      "cell_type": "code",
      "metadata": {
        "id": "Fh6gZSeAjF7c",
        "colab_type": "code",
        "outputId": "810c9743-add8-46e4-f44d-b16f57f24a41",
        "colab": {
          "base_uri": "https://localhost:8080/",
          "height": 311
        }
      },
      "source": [
        "model.summary()"
      ],
      "execution_count": 0,
      "outputs": [
        {
          "output_type": "stream",
          "text": [
            "Model: \"sequential\"\n",
            "_________________________________________________________________\n",
            "Layer (type)                 Output Shape              Param #   \n",
            "=================================================================\n",
            "xception (Model)             (None, 5, 5, 2048)        20861480  \n",
            "_________________________________________________________________\n",
            "flatten (Flatten)            (None, 51200)             0         \n",
            "_________________________________________________________________\n",
            "dense (Dense)                (None, 256)               13107456  \n",
            "_________________________________________________________________\n",
            "dense_1 (Dense)              (None, 1)                 257       \n",
            "=================================================================\n",
            "Total params: 33,969,193\n",
            "Trainable params: 13,107,713\n",
            "Non-trainable params: 20,861,480\n",
            "_________________________________________________________________\n"
          ],
          "name": "stdout"
        }
      ]
    },
    {
      "cell_type": "markdown",
      "metadata": {
        "id": "eZjBiddhi5Qj",
        "colab_type": "text"
      },
      "source": [
        "## Train the model end to end with frozen convolutional base"
      ]
    },
    {
      "cell_type": "code",
      "metadata": {
        "id": "tfAQlC2Oi41L",
        "colab_type": "code",
        "outputId": "ad4cbbfe-3242-4228-a43c-d384a6e068d6",
        "colab": {
          "base_uri": "https://localhost:8080/",
          "height": 1000
        }
      },
      "source": [
        "from tensorflow.keras.preprocessing.image import ImageDataGenerator\n",
        "from tensorflow.keras import optimizers\n",
        "\n",
        "# data augmentation\n",
        "\n",
        "train_datagen = ImageDataGenerator(\n",
        "    rescale=1./255, \n",
        "    rotation_range=40,\n",
        "    width_shift_range=0.2,\n",
        "    height_shift_range=0.2,\n",
        "    shear_range=0.2,\n",
        "    zoom_range=0.2,\n",
        "    horizontal_flip=True,\n",
        "    fill_mode='nearest'\n",
        ")\n",
        "\n",
        "train_generator = train_datagen.flow_from_directory(\n",
        "    train_dir,\n",
        "    target_size=(150, 150),\n",
        "    batch_size=20,\n",
        "    class_mode='binary')\n",
        "\n",
        "validation_datagen = ImageDataGenerator(rescale=1./255)\n",
        "\n",
        "validation_generator = validation_datagen.flow_from_directory(\n",
        "    validation_dir,\n",
        "    target_size=(150, 150),\n",
        "    batch_size=20,\n",
        "    class_mode='binary')\n",
        "\n",
        "# compile model\n",
        "\n",
        "model.compile(\n",
        "    loss='binary_crossentropy', \n",
        "    optimizer=optimizers.RMSprop(lr=2e-5), \n",
        "    metrics=['acc'])\n",
        "\n",
        "# train\n",
        "\n",
        "history = model.fit_generator(\n",
        "    train_generator,\n",
        "    steps_per_epoch=100,\n",
        "    epochs=30,\n",
        "    validation_data=validation_generator,\n",
        "    validation_steps=50\n",
        ")"
      ],
      "execution_count": 0,
      "outputs": [
        {
          "output_type": "stream",
          "text": [
            "Found 2000 images belonging to 2 classes.\n",
            "Found 1000 images belonging to 2 classes.\n",
            "WARNING:tensorflow:From <ipython-input-29-5092250a27f3>:45: Model.fit_generator (from tensorflow.python.keras.engine.training) is deprecated and will be removed in a future version.\n",
            "Instructions for updating:\n",
            "Please use Model.fit, which supports generators.\n",
            "Epoch 1/30\n",
            "100/100 [==============================] - 18s 180ms/step - loss: 0.2289 - acc: 0.9015 - val_loss: 0.1044 - val_acc: 0.9540\n",
            "Epoch 2/30\n",
            "100/100 [==============================] - 17s 172ms/step - loss: 0.1900 - acc: 0.9200 - val_loss: 0.0791 - val_acc: 0.9640\n",
            "Epoch 3/30\n",
            "100/100 [==============================] - 17s 173ms/step - loss: 0.1412 - acc: 0.9420 - val_loss: 0.0865 - val_acc: 0.9560\n",
            "Epoch 4/30\n",
            "100/100 [==============================] - 17s 173ms/step - loss: 0.1423 - acc: 0.9415 - val_loss: 0.0968 - val_acc: 0.9620\n",
            "Epoch 5/30\n",
            "100/100 [==============================] - 17s 173ms/step - loss: 0.1479 - acc: 0.9390 - val_loss: 0.0681 - val_acc: 0.9690\n",
            "Epoch 6/30\n",
            "100/100 [==============================] - 17s 174ms/step - loss: 0.1280 - acc: 0.9510 - val_loss: 0.1082 - val_acc: 0.9600\n",
            "Epoch 7/30\n",
            "100/100 [==============================] - 17s 173ms/step - loss: 0.1209 - acc: 0.9460 - val_loss: 0.0746 - val_acc: 0.9690\n",
            "Epoch 8/30\n",
            "100/100 [==============================] - 17s 172ms/step - loss: 0.1157 - acc: 0.9565 - val_loss: 0.0978 - val_acc: 0.9640\n",
            "Epoch 9/30\n",
            "100/100 [==============================] - 17s 174ms/step - loss: 0.1122 - acc: 0.9570 - val_loss: 0.0929 - val_acc: 0.9690\n",
            "Epoch 10/30\n",
            "100/100 [==============================] - 17s 175ms/step - loss: 0.1094 - acc: 0.9515 - val_loss: 0.0700 - val_acc: 0.9690\n",
            "Epoch 11/30\n",
            "100/100 [==============================] - 17s 173ms/step - loss: 0.1017 - acc: 0.9585 - val_loss: 0.0810 - val_acc: 0.9650\n",
            "Epoch 12/30\n",
            "100/100 [==============================] - 17s 173ms/step - loss: 0.1029 - acc: 0.9595 - val_loss: 0.0983 - val_acc: 0.9600\n",
            "Epoch 13/30\n",
            "100/100 [==============================] - 17s 173ms/step - loss: 0.1061 - acc: 0.9605 - val_loss: 0.0871 - val_acc: 0.9620\n",
            "Epoch 14/30\n",
            "100/100 [==============================] - 17s 173ms/step - loss: 0.1018 - acc: 0.9580 - val_loss: 0.1487 - val_acc: 0.9520\n",
            "Epoch 15/30\n",
            "100/100 [==============================] - 17s 175ms/step - loss: 0.0897 - acc: 0.9635 - val_loss: 0.0669 - val_acc: 0.9720\n",
            "Epoch 16/30\n",
            "100/100 [==============================] - 17s 173ms/step - loss: 0.0893 - acc: 0.9685 - val_loss: 0.1597 - val_acc: 0.9580\n",
            "Epoch 17/30\n",
            "100/100 [==============================] - 17s 173ms/step - loss: 0.0924 - acc: 0.9675 - val_loss: 0.0905 - val_acc: 0.9690\n",
            "Epoch 18/30\n",
            "100/100 [==============================] - 17s 175ms/step - loss: 0.0893 - acc: 0.9660 - val_loss: 0.0981 - val_acc: 0.9630\n",
            "Epoch 19/30\n",
            "100/100 [==============================] - 17s 174ms/step - loss: 0.0766 - acc: 0.9715 - val_loss: 0.0825 - val_acc: 0.9680\n",
            "Epoch 20/30\n",
            "100/100 [==============================] - 17s 173ms/step - loss: 0.0987 - acc: 0.9595 - val_loss: 0.0992 - val_acc: 0.9610\n",
            "Epoch 21/30\n",
            "100/100 [==============================] - 17s 173ms/step - loss: 0.0761 - acc: 0.9735 - val_loss: 0.0866 - val_acc: 0.9670\n",
            "Epoch 22/30\n",
            "100/100 [==============================] - 17s 174ms/step - loss: 0.0772 - acc: 0.9730 - val_loss: 0.0989 - val_acc: 0.9700\n",
            "Epoch 23/30\n",
            "100/100 [==============================] - 17s 173ms/step - loss: 0.0913 - acc: 0.9695 - val_loss: 0.0901 - val_acc: 0.9700\n",
            "Epoch 24/30\n",
            "100/100 [==============================] - 17s 173ms/step - loss: 0.0795 - acc: 0.9690 - val_loss: 0.1013 - val_acc: 0.9610\n",
            "Epoch 25/30\n",
            "100/100 [==============================] - 17s 173ms/step - loss: 0.0795 - acc: 0.9690 - val_loss: 0.0944 - val_acc: 0.9740\n",
            "Epoch 26/30\n",
            "100/100 [==============================] - 17s 173ms/step - loss: 0.0613 - acc: 0.9755 - val_loss: 0.0864 - val_acc: 0.9710\n",
            "Epoch 27/30\n",
            "100/100 [==============================] - 17s 172ms/step - loss: 0.0708 - acc: 0.9705 - val_loss: 0.0950 - val_acc: 0.9740\n",
            "Epoch 28/30\n",
            "100/100 [==============================] - 17s 173ms/step - loss: 0.0765 - acc: 0.9725 - val_loss: 0.0764 - val_acc: 0.9700\n",
            "Epoch 29/30\n",
            "100/100 [==============================] - 17s 174ms/step - loss: 0.0687 - acc: 0.9725 - val_loss: 0.1159 - val_acc: 0.9620\n",
            "Epoch 30/30\n",
            "100/100 [==============================] - 17s 173ms/step - loss: 0.0664 - acc: 0.9750 - val_loss: 0.0835 - val_acc: 0.9730\n"
          ],
          "name": "stdout"
        }
      ]
    },
    {
      "cell_type": "markdown",
      "metadata": {
        "id": "xqRc_vHKc92U",
        "colab_type": "text"
      },
      "source": [
        "## Display curves of loss and accuracy during training"
      ]
    },
    {
      "cell_type": "code",
      "metadata": {
        "id": "ybWwdzz9bwuQ",
        "colab_type": "code",
        "outputId": "b56e18b5-c4b1-4664-aaa2-adde87a612ba",
        "colab": {
          "base_uri": "https://localhost:8080/",
          "height": 545
        }
      },
      "source": [
        "%matplotlib inline\n",
        "\n",
        "import matplotlib.pyplot as plt\n",
        "\n",
        "acc = history.history['acc']\n",
        "val_acc = history.history['val_acc']\n",
        "\n",
        "loss = history.history['loss']\n",
        "val_loss = history.history['val_loss']\n",
        "\n",
        "epochs = range(1, len(acc) + 1)\n",
        "\n",
        "# training and validation accuracy\n",
        "\n",
        "plt.plot(epochs, acc, 'bo', label='training acc')\n",
        "plt.plot(epochs, val_acc, 'b', label='validation acc')\n",
        "plt.title('training and validation accuracy')\n",
        "plt.legend()\n",
        "\n",
        "plt.figure()\n",
        "\n",
        "# training and validation loss\n",
        "\n",
        "plt.plot(epochs, loss, 'bo', label='training loss')\n",
        "plt.plot(epochs, val_loss, 'b', label='validation loss')\n",
        "plt.title('training and validation loss')\n",
        "plt.legend()\n",
        "\n",
        "plt.show()"
      ],
      "execution_count": 0,
      "outputs": [
        {
          "output_type": "display_data",
          "data": {
            "image/png": "[encoded data removed]",
            "text/plain": [
              "<Figure size 432x288 with 1 Axes>"
            ]
          },
          "metadata": {
            "tags": []
          }
        },
        {
          "output_type": "display_data",
          "data": {
            "image/png": "[encoded data removed]",
            "text/plain": [
              "<Figure size 432x288 with 1 Axes>"
            ]
          },
          "metadata": {
            "tags": []
          }
        }
      ]
    },
    {
      "cell_type": "markdown",
      "metadata": {
        "id": "lOWsxpey8lN0",
        "colab_type": "text"
      },
      "source": [
        "## Fine-tuning"
      ]
    },
    {
      "cell_type": "code",
      "metadata": {
        "id": "PwkVMx8N8qMw",
        "colab_type": "code",
        "colab": {}
      },
      "source": [
        "conv_base.trainable = True\n",
        "\n",
        "set_trainable = False\n",
        "for layer in conv_base.layers:\n",
        "  if layer.name == 'block5_conv1':\n",
        "    set_trainable = True\n",
        "  if set_trainable:\n",
        "    layer.trainable = True\n",
        "  else:\n",
        "    layer.trainable = False"
      ],
      "execution_count": 0,
      "outputs": []
    },
    {
      "cell_type": "code",
      "metadata": {
        "id": "DyN-J7rs9cvo",
        "colab_type": "code",
        "outputId": "00de2f98-69f6-482e-88e4-7d17c53818ff",
        "colab": {
          "base_uri": "https://localhost:8080/",
          "height": 1000
        }
      },
      "source": [
        "# compile model\n",
        "\n",
        "model.compile(\n",
        "    loss='binary_crossentropy',\n",
        "    #\n",
        "    # choose a smaller learning rate\n",
        "    #\n",
        "    optimizer=optimizers.RMSprop(lr=1e-5), \n",
        "    metrics=['acc'])\n",
        "\n",
        "# train\n",
        "\n",
        "history = model.fit_generator(\n",
        "    train_generator,\n",
        "    steps_per_epoch=100,\n",
        "    epochs=100,\n",
        "    validation_data=validation_generator,\n",
        "    validation_steps=50)"
      ],
      "execution_count": 0,
      "outputs": [
        {
          "output_type": "stream",
          "text": [
            "Epoch 1/100\n",
            "100/100 [==============================] - 18s 178ms/step - loss: 0.0654 - acc: 0.9760 - val_loss: 0.1087 - val_acc: 0.9550\n",
            "Epoch 2/100\n",
            "100/100 [==============================] - 17s 174ms/step - loss: 0.0570 - acc: 0.9805 - val_loss: 0.0643 - val_acc: 0.9810\n",
            "Epoch 3/100\n",
            "100/100 [==============================] - 17s 173ms/step - loss: 0.0580 - acc: 0.9785 - val_loss: 0.0756 - val_acc: 0.9780\n",
            "Epoch 4/100\n",
            "100/100 [==============================] - 17s 173ms/step - loss: 0.0561 - acc: 0.9800 - val_loss: 0.0667 - val_acc: 0.9770\n",
            "Epoch 5/100\n",
            "100/100 [==============================] - 18s 176ms/step - loss: 0.0559 - acc: 0.9790 - val_loss: 0.0753 - val_acc: 0.9760\n",
            "Epoch 6/100\n",
            "100/100 [==============================] - 17s 174ms/step - loss: 0.0409 - acc: 0.9825 - val_loss: 0.0844 - val_acc: 0.9710\n",
            "Epoch 7/100\n",
            "100/100 [==============================] - 17s 174ms/step - loss: 0.0549 - acc: 0.9765 - val_loss: 0.0745 - val_acc: 0.9770\n",
            "Epoch 8/100\n",
            "100/100 [==============================] - 17s 172ms/step - loss: 0.0532 - acc: 0.9785 - val_loss: 0.0849 - val_acc: 0.9750\n",
            "Epoch 9/100\n",
            "100/100 [==============================] - 17s 173ms/step - loss: 0.0519 - acc: 0.9800 - val_loss: 0.0676 - val_acc: 0.9750\n",
            "Epoch 10/100\n",
            "100/100 [==============================] - 17s 173ms/step - loss: 0.0667 - acc: 0.9765 - val_loss: 0.0781 - val_acc: 0.9730\n",
            "Epoch 11/100\n",
            "100/100 [==============================] - 17s 173ms/step - loss: 0.0456 - acc: 0.9840 - val_loss: 0.0790 - val_acc: 0.9700\n",
            "Epoch 12/100\n",
            "100/100 [==============================] - 17s 174ms/step - loss: 0.0577 - acc: 0.9745 - val_loss: 0.0777 - val_acc: 0.9670\n",
            "Epoch 13/100\n",
            "100/100 [==============================] - 17s 173ms/step - loss: 0.0455 - acc: 0.9825 - val_loss: 0.0805 - val_acc: 0.9730\n",
            "Epoch 14/100\n",
            "100/100 [==============================] - 17s 172ms/step - loss: 0.0563 - acc: 0.9795 - val_loss: 0.0731 - val_acc: 0.9690\n",
            "Epoch 15/100\n",
            "100/100 [==============================] - 17s 172ms/step - loss: 0.0493 - acc: 0.9835 - val_loss: 0.0845 - val_acc: 0.9720\n",
            "Epoch 16/100\n",
            "100/100 [==============================] - 17s 173ms/step - loss: 0.0503 - acc: 0.9800 - val_loss: 0.0810 - val_acc: 0.9710\n",
            "Epoch 17/100\n",
            "100/100 [==============================] - 17s 173ms/step - loss: 0.0349 - acc: 0.9840 - val_loss: 0.0948 - val_acc: 0.9700\n",
            "Epoch 18/100\n",
            "100/100 [==============================] - 17s 173ms/step - loss: 0.0480 - acc: 0.9815 - val_loss: 0.0943 - val_acc: 0.9740\n",
            "Epoch 19/100\n",
            "100/100 [==============================] - 17s 172ms/step - loss: 0.0404 - acc: 0.9820 - val_loss: 0.0806 - val_acc: 0.9780\n",
            "Epoch 20/100\n",
            "100/100 [==============================] - 17s 172ms/step - loss: 0.0504 - acc: 0.9795 - val_loss: 0.0903 - val_acc: 0.9740\n",
            "Epoch 21/100\n",
            "100/100 [==============================] - 17s 174ms/step - loss: 0.0525 - acc: 0.9825 - val_loss: 0.0924 - val_acc: 0.9650\n",
            "Epoch 22/100\n",
            "100/100 [==============================] - 17s 173ms/step - loss: 0.0506 - acc: 0.9855 - val_loss: 0.0812 - val_acc: 0.9720\n",
            "Epoch 23/100\n",
            "100/100 [==============================] - 18s 175ms/step - loss: 0.0421 - acc: 0.9855 - val_loss: 0.0772 - val_acc: 0.9740\n",
            "Epoch 24/100\n",
            "100/100 [==============================] - 17s 174ms/step - loss: 0.0407 - acc: 0.9870 - val_loss: 0.0889 - val_acc: 0.9660\n",
            "Epoch 25/100\n",
            "100/100 [==============================] - 17s 172ms/step - loss: 0.0413 - acc: 0.9825 - val_loss: 0.0856 - val_acc: 0.9720\n",
            "Epoch 26/100\n",
            "100/100 [==============================] - 17s 174ms/step - loss: 0.0406 - acc: 0.9885 - val_loss: 0.0748 - val_acc: 0.9820\n",
            "Epoch 27/100\n",
            "100/100 [==============================] - 17s 173ms/step - loss: 0.0407 - acc: 0.9805 - val_loss: 0.1231 - val_acc: 0.9580\n",
            "Epoch 28/100\n",
            "100/100 [==============================] - 17s 173ms/step - loss: 0.0337 - acc: 0.9880 - val_loss: 0.0796 - val_acc: 0.9800\n",
            "Epoch 29/100\n",
            "100/100 [==============================] - 17s 173ms/step - loss: 0.0446 - acc: 0.9855 - val_loss: 0.0892 - val_acc: 0.9720\n",
            "Epoch 30/100\n",
            "100/100 [==============================] - 17s 174ms/step - loss: 0.0366 - acc: 0.9875 - val_loss: 0.0570 - val_acc: 0.9780\n",
            "Epoch 31/100\n",
            "100/100 [==============================] - 17s 173ms/step - loss: 0.0387 - acc: 0.9860 - val_loss: 0.0940 - val_acc: 0.9670\n",
            "Epoch 32/100\n",
            "100/100 [==============================] - 17s 173ms/step - loss: 0.0388 - acc: 0.9855 - val_loss: 0.0734 - val_acc: 0.9770\n",
            "Epoch 33/100\n",
            "100/100 [==============================] - 17s 173ms/step - loss: 0.0370 - acc: 0.9850 - val_loss: 0.0938 - val_acc: 0.9700\n",
            "Epoch 34/100\n",
            "100/100 [==============================] - 17s 173ms/step - loss: 0.0372 - acc: 0.9880 - val_loss: 0.0789 - val_acc: 0.9690\n",
            "Epoch 35/100\n",
            "100/100 [==============================] - 17s 174ms/step - loss: 0.0340 - acc: 0.9895 - val_loss: 0.0904 - val_acc: 0.9700\n",
            "Epoch 36/100\n",
            "100/100 [==============================] - 17s 173ms/step - loss: 0.0381 - acc: 0.9860 - val_loss: 0.0774 - val_acc: 0.9740\n",
            "Epoch 37/100\n",
            "100/100 [==============================] - 17s 174ms/step - loss: 0.0342 - acc: 0.9865 - val_loss: 0.0820 - val_acc: 0.9770\n",
            "Epoch 38/100\n",
            "100/100 [==============================] - 17s 171ms/step - loss: 0.0382 - acc: 0.9855 - val_loss: 0.0846 - val_acc: 0.9730\n",
            "Epoch 39/100\n",
            "100/100 [==============================] - 17s 172ms/step - loss: 0.0373 - acc: 0.9845 - val_loss: 0.0871 - val_acc: 0.9790\n",
            "Epoch 40/100\n",
            "100/100 [==============================] - 17s 173ms/step - loss: 0.0276 - acc: 0.9910 - val_loss: 0.1097 - val_acc: 0.9680\n",
            "Epoch 41/100\n",
            "100/100 [==============================] - 17s 174ms/step - loss: 0.0293 - acc: 0.9890 - val_loss: 0.1061 - val_acc: 0.9690\n",
            "Epoch 42/100\n",
            "100/100 [==============================] - 17s 172ms/step - loss: 0.0328 - acc: 0.9885 - val_loss: 0.0923 - val_acc: 0.9700\n",
            "Epoch 43/100\n",
            "100/100 [==============================] - 17s 171ms/step - loss: 0.0424 - acc: 0.9850 - val_loss: 0.0813 - val_acc: 0.9770\n",
            "Epoch 44/100\n",
            "100/100 [==============================] - 17s 173ms/step - loss: 0.0343 - acc: 0.9860 - val_loss: 0.0782 - val_acc: 0.9740\n",
            "Epoch 45/100\n",
            "100/100 [==============================] - 17s 173ms/step - loss: 0.0372 - acc: 0.9860 - val_loss: 0.0930 - val_acc: 0.9630\n",
            "Epoch 46/100\n",
            "100/100 [==============================] - 17s 172ms/step - loss: 0.0360 - acc: 0.9875 - val_loss: 0.0942 - val_acc: 0.9740\n",
            "Epoch 47/100\n",
            "100/100 [==============================] - 17s 171ms/step - loss: 0.0358 - acc: 0.9870 - val_loss: 0.0728 - val_acc: 0.9740\n",
            "Epoch 48/100\n",
            "100/100 [==============================] - 17s 171ms/step - loss: 0.0388 - acc: 0.9865 - val_loss: 0.0857 - val_acc: 0.9650\n",
            "Epoch 49/100\n",
            "100/100 [==============================] - 17s 173ms/step - loss: 0.0479 - acc: 0.9875 - val_loss: 0.0802 - val_acc: 0.9750\n",
            "Epoch 50/100\n",
            "100/100 [==============================] - 17s 172ms/step - loss: 0.0306 - acc: 0.9915 - val_loss: 0.1021 - val_acc: 0.9660\n",
            "Epoch 51/100\n",
            "100/100 [==============================] - 17s 172ms/step - loss: 0.0306 - acc: 0.9890 - val_loss: 0.1006 - val_acc: 0.9710\n",
            "Epoch 52/100\n",
            "100/100 [==============================] - 17s 171ms/step - loss: 0.0392 - acc: 0.9875 - val_loss: 0.0885 - val_acc: 0.9760\n",
            "Epoch 53/100\n",
            "100/100 [==============================] - 17s 173ms/step - loss: 0.0390 - acc: 0.9850 - val_loss: 0.0773 - val_acc: 0.9710\n",
            "Epoch 54/100\n",
            "100/100 [==============================] - 17s 174ms/step - loss: 0.0373 - acc: 0.9870 - val_loss: 0.0892 - val_acc: 0.9670\n",
            "Epoch 55/100\n",
            "100/100 [==============================] - 17s 172ms/step - loss: 0.0219 - acc: 0.9915 - val_loss: 0.0919 - val_acc: 0.9740\n",
            "Epoch 56/100\n",
            "100/100 [==============================] - 17s 173ms/step - loss: 0.0407 - acc: 0.9865 - val_loss: 0.0962 - val_acc: 0.9730\n",
            "Epoch 57/100\n",
            "100/100 [==============================] - 17s 172ms/step - loss: 0.0344 - acc: 0.9895 - val_loss: 0.1159 - val_acc: 0.9640\n",
            "Epoch 58/100\n",
            "100/100 [==============================] - 17s 174ms/step - loss: 0.0409 - acc: 0.9875 - val_loss: 0.1016 - val_acc: 0.9630\n",
            "Epoch 59/100\n",
            "100/100 [==============================] - 17s 175ms/step - loss: 0.0412 - acc: 0.9870 - val_loss: 0.0856 - val_acc: 0.9750\n",
            "Epoch 60/100\n",
            "100/100 [==============================] - 17s 172ms/step - loss: 0.0305 - acc: 0.9900 - val_loss: 0.1016 - val_acc: 0.9670\n",
            "Epoch 61/100\n",
            "100/100 [==============================] - 17s 173ms/step - loss: 0.0310 - acc: 0.9870 - val_loss: 0.0931 - val_acc: 0.9770\n",
            "Epoch 62/100\n",
            "100/100 [==============================] - 17s 174ms/step - loss: 0.0391 - acc: 0.9875 - val_loss: 0.1004 - val_acc: 0.9680\n",
            "Epoch 63/100\n",
            "100/100 [==============================] - 17s 173ms/step - loss: 0.0393 - acc: 0.9880 - val_loss: 0.0787 - val_acc: 0.9730\n",
            "Epoch 64/100\n",
            "100/100 [==============================] - 17s 171ms/step - loss: 0.0249 - acc: 0.9910 - val_loss: 0.1043 - val_acc: 0.9730\n",
            "Epoch 65/100\n",
            "100/100 [==============================] - 17s 171ms/step - loss: 0.0321 - acc: 0.9870 - val_loss: 0.1365 - val_acc: 0.9600\n",
            "Epoch 66/100\n",
            "100/100 [==============================] - 17s 173ms/step - loss: 0.0323 - acc: 0.9890 - val_loss: 0.0918 - val_acc: 0.9650\n",
            "Epoch 67/100\n",
            "100/100 [==============================] - 17s 172ms/step - loss: 0.0280 - acc: 0.9880 - val_loss: 0.0935 - val_acc: 0.9730\n",
            "Epoch 68/100\n",
            "100/100 [==============================] - 17s 173ms/step - loss: 0.0336 - acc: 0.9885 - val_loss: 0.0864 - val_acc: 0.9690\n",
            "Epoch 69/100\n",
            "100/100 [==============================] - 17s 173ms/step - loss: 0.0218 - acc: 0.9950 - val_loss: 0.0856 - val_acc: 0.9730\n",
            "Epoch 70/100\n",
            "100/100 [==============================] - 17s 172ms/step - loss: 0.0304 - acc: 0.9910 - val_loss: 0.0942 - val_acc: 0.9710\n",
            "Epoch 71/100\n",
            "100/100 [==============================] - 17s 172ms/step - loss: 0.0287 - acc: 0.9890 - val_loss: 0.0908 - val_acc: 0.9730\n",
            "Epoch 72/100\n",
            "100/100 [==============================] - 17s 174ms/step - loss: 0.0303 - acc: 0.9880 - val_loss: 0.1056 - val_acc: 0.9760\n",
            "Epoch 73/100\n",
            "100/100 [==============================] - 17s 173ms/step - loss: 0.0259 - acc: 0.9885 - val_loss: 0.1064 - val_acc: 0.9760\n",
            "Epoch 74/100\n",
            "100/100 [==============================] - 17s 174ms/step - loss: 0.0235 - acc: 0.9925 - val_loss: 0.0930 - val_acc: 0.9710\n",
            "Epoch 75/100\n",
            "100/100 [==============================] - 17s 173ms/step - loss: 0.0306 - acc: 0.9905 - val_loss: 0.0921 - val_acc: 0.9720\n",
            "Epoch 76/100\n",
            "100/100 [==============================] - 17s 173ms/step - loss: 0.0270 - acc: 0.9885 - val_loss: 0.1047 - val_acc: 0.9710\n",
            "Epoch 77/100\n",
            "100/100 [==============================] - 18s 177ms/step - loss: 0.0307 - acc: 0.9885 - val_loss: 0.0934 - val_acc: 0.9740\n",
            "Epoch 78/100\n",
            "100/100 [==============================] - 17s 172ms/step - loss: 0.0302 - acc: 0.9910 - val_loss: 0.1274 - val_acc: 0.9700\n",
            "Epoch 79/100\n",
            "100/100 [==============================] - 17s 173ms/step - loss: 0.0335 - acc: 0.9880 - val_loss: 0.0886 - val_acc: 0.9750\n",
            "Epoch 80/100\n",
            "100/100 [==============================] - 17s 174ms/step - loss: 0.0240 - acc: 0.9910 - val_loss: 0.1001 - val_acc: 0.9680\n",
            "Epoch 81/100\n",
            "100/100 [==============================] - 17s 175ms/step - loss: 0.0336 - acc: 0.9885 - val_loss: 0.0985 - val_acc: 0.9650\n",
            "Epoch 82/100\n",
            "100/100 [==============================] - 18s 177ms/step - loss: 0.0292 - acc: 0.9900 - val_loss: 0.1108 - val_acc: 0.9680\n",
            "Epoch 83/100\n",
            "100/100 [==============================] - 17s 174ms/step - loss: 0.0428 - acc: 0.9835 - val_loss: 0.0801 - val_acc: 0.9740\n",
            "Epoch 84/100\n",
            "100/100 [==============================] - 18s 177ms/step - loss: 0.0206 - acc: 0.9940 - val_loss: 0.1137 - val_acc: 0.9690\n",
            "Epoch 85/100\n",
            "100/100 [==============================] - 18s 178ms/step - loss: 0.0362 - acc: 0.9860 - val_loss: 0.0780 - val_acc: 0.9780\n",
            "Epoch 86/100\n",
            "100/100 [==============================] - 18s 179ms/step - loss: 0.0318 - acc: 0.9895 - val_loss: 0.0947 - val_acc: 0.9800\n",
            "Epoch 87/100\n",
            "100/100 [==============================] - 18s 178ms/step - loss: 0.0274 - acc: 0.9895 - val_loss: 0.0725 - val_acc: 0.9760\n",
            "Epoch 88/100\n",
            "100/100 [==============================] - 18s 176ms/step - loss: 0.0369 - acc: 0.9870 - val_loss: 0.1067 - val_acc: 0.9710\n",
            "Epoch 89/100\n",
            "100/100 [==============================] - 18s 176ms/step - loss: 0.0324 - acc: 0.9875 - val_loss: 0.0741 - val_acc: 0.9740\n",
            "Epoch 90/100\n",
            "100/100 [==============================] - 18s 177ms/step - loss: 0.0285 - acc: 0.9900 - val_loss: 0.0764 - val_acc: 0.9750\n",
            "Epoch 91/100\n",
            "100/100 [==============================] - 18s 177ms/step - loss: 0.0309 - acc: 0.9910 - val_loss: 0.0852 - val_acc: 0.9700\n",
            "Epoch 92/100\n",
            "100/100 [==============================] - 17s 175ms/step - loss: 0.0245 - acc: 0.9910 - val_loss: 0.0646 - val_acc: 0.9830\n",
            "Epoch 93/100\n",
            "100/100 [==============================] - 17s 175ms/step - loss: 0.0210 - acc: 0.9915 - val_loss: 0.0960 - val_acc: 0.9700\n",
            "Epoch 94/100\n",
            "100/100 [==============================] - 17s 175ms/step - loss: 0.0294 - acc: 0.9895 - val_loss: 0.1001 - val_acc: 0.9750\n",
            "Epoch 95/100\n",
            "100/100 [==============================] - 18s 178ms/step - loss: 0.0260 - acc: 0.9895 - val_loss: 0.0910 - val_acc: 0.9720\n",
            "Epoch 96/100\n",
            "100/100 [==============================] - 17s 174ms/step - loss: 0.0287 - acc: 0.9905 - val_loss: 0.0814 - val_acc: 0.9740\n",
            "Epoch 97/100\n",
            "100/100 [==============================] - 17s 175ms/step - loss: 0.0346 - acc: 0.9870 - val_loss: 0.1020 - val_acc: 0.9690\n",
            "Epoch 98/100\n",
            "100/100 [==============================] - 17s 175ms/step - loss: 0.0300 - acc: 0.9900 - val_loss: 0.0759 - val_acc: 0.9780\n",
            "Epoch 99/100\n",
            "100/100 [==============================] - 17s 174ms/step - loss: 0.0246 - acc: 0.9910 - val_loss: 0.1132 - val_acc: 0.9680\n",
            "Epoch 100/100\n",
            "100/100 [==============================] - 17s 175ms/step - loss: 0.0229 - acc: 0.9930 - val_loss: 0.0841 - val_acc: 0.9710\n"
          ],
          "name": "stdout"
        }
      ]
    },
    {
      "cell_type": "markdown",
      "metadata": {
        "id": "eVBQgh5M-Rtz",
        "colab_type": "text"
      },
      "source": [
        "## Display learning curves during fine-tuning"
      ]
    },
    {
      "cell_type": "code",
      "metadata": {
        "id": "mbkIw7Ie-NP4",
        "colab_type": "code",
        "outputId": "25bbb0f5-14e4-4467-b069-ac57bc9daa41",
        "colab": {
          "base_uri": "https://localhost:8080/",
          "height": 545
        }
      },
      "source": [
        "%matplotlib inline\n",
        "\n",
        "import matplotlib.pyplot as plt\n",
        "\n",
        "acc = history.history['acc']\n",
        "val_acc = history.history['val_acc']\n",
        "\n",
        "loss = history.history['loss']\n",
        "val_loss = history.history['val_loss']\n",
        "\n",
        "epochs = range(1, len(acc) + 1)\n",
        "\n",
        "# training and validation accuracy\n",
        "\n",
        "plt.plot(epochs, acc, 'bo', label='training acc')\n",
        "plt.plot(epochs, val_acc, 'b', label='validation acc')\n",
        "plt.title('training and validation accuracy')\n",
        "plt.legend()\n",
        "\n",
        "plt.figure()\n",
        "\n",
        "# training and validation loss\n",
        "\n",
        "plt.plot(epochs, loss, 'bo', label='training loss')\n",
        "plt.plot(epochs, val_loss, 'b', label='validation loss')\n",
        "plt.title('training and validation loss')\n",
        "plt.legend()\n",
        "\n",
        "plt.show()"
      ],
      "execution_count": 0,
      "outputs": [
        {
          "output_type": "display_data",
          "data": {
            "image/png": "[encoded data removed]",
            "text/plain": [
              "<Figure size 432x288 with 1 Axes>"
            ]
          },
          "metadata": {
            "tags": []
          }
        },
        {
          "output_type": "display_data",
          "data": {
            "image/png": "[encoded data removed]",
            "text/plain": [
              "<Figure size 432x288 with 1 Axes>"
            ]
          },
          "metadata": {
            "tags": []
          }
        }
      ]
    },
    {
      "cell_type": "markdown",
      "metadata": {
        "id": "obQi6N4ZShdi",
        "colab_type": "text"
      },
      "source": [
        "This looks like overfitting. I should try  adding dropout for the densely connected layer."
      ]
    },
    {
      "cell_type": "markdown",
      "metadata": {
        "id": "he3Nw6TOJwjx",
        "colab_type": "text"
      },
      "source": [
        "## Print out validation loss and accuracy"
      ]
    },
    {
      "cell_type": "code",
      "metadata": {
        "id": "SVQtrk7uJdhl",
        "colab_type": "code",
        "outputId": "44f8aa0d-c59f-4dba-8493-55a7886a6156",
        "colab": {
          "base_uri": "https://localhost:8080/",
          "height": 72
        }
      },
      "source": [
        "val_loss, val_acc = model.evaluate_generator(validation_generator, steps=50)"
      ],
      "execution_count": 0,
      "outputs": [
        {
          "output_type": "stream",
          "text": [
            "WARNING:tensorflow:From <ipython-input-34-b8f112b0a6b9>:1: Model.evaluate_generator (from tensorflow.python.keras.engine.training) is deprecated and will be removed in a future version.\n",
            "Instructions for updating:\n",
            "Please use Model.evaluate, which supports generators.\n"
          ],
          "name": "stdout"
        }
      ]
    },
    {
      "cell_type": "code",
      "metadata": {
        "id": "HpdddLi1SUMe",
        "colab_type": "code",
        "outputId": "3f64df7d-1654-4c43-c6f7-d1771d8b3368",
        "colab": {
          "base_uri": "https://localhost:8080/",
          "height": 50
        }
      },
      "source": [
        "print(\"Validation loss:\", val_loss)\n",
        "print(\"Validation accuracy:\", val_acc)"
      ],
      "execution_count": 0,
      "outputs": [
        {
          "output_type": "stream",
          "text": [
            "Validation loss: 0.2544833068206435\n",
            "Validation accuracy: 0.9499999916553498\n"
          ],
          "name": "stdout"
        }
      ]
    },
    {
      "cell_type": "markdown",
      "metadata": {
        "id": "7Ww756WToby8",
        "colab_type": "text"
      },
      "source": [
        "## Save the model"
      ]
    },
    {
      "cell_type": "code",
      "metadata": {
        "id": "0lTUpUdwobKW",
        "colab_type": "code",
        "colab": {}
      },
      "source": [
        "model_fname = 'cats_and_dogs_small_4.h5' \n",
        "model.save(model_fname)"
      ],
      "execution_count": 0,
      "outputs": []
    },
    {
      "cell_type": "code",
      "metadata": {
        "id": "YhEoI8ZTok-X",
        "colab_type": "code",
        "colab": {}
      },
      "source": [
        "from google.colab import files\n",
        "\n",
        "with open(model_fname, 'r') as f:\n",
        "  files.download(model_fname)"
      ],
      "execution_count": 0,
      "outputs": []
    },
    {
      "cell_type": "code",
      "metadata": {
        "id": "VNEL4CCcS0Oj",
        "colab_type": "code",
        "colab": {}
      },
      "source": [
        ""
      ],
      "execution_count": 0,
      "outputs": []
    }
  ]
}