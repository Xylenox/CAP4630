{
  "nbformat": 4,
  "nbformat_minor": 0,
  "metadata": {
    "colab": {
      "name": "Copy of Copy of pretrained_convnet_finetuning.ipynb",
      "provenance": [],
      "collapsed_sections": [],
      "include_colab_link": true
    },
    "kernelspec": {
      "name": "python3",
      "display_name": "Python 3"
    },
    "accelerator": "GPU"
  },
  "cells": [
    {
      "cell_type": "markdown",
      "metadata": {
        "id": "view-in-github",
        "colab_type": "text"
      },
      "source": [
        "<a href=\"https://colab.research.google.com/github/Xylenox/CAP4630/blob/master/HW_4/Problem3_2.ipynb\" target=\"_parent\"><img src=\"https://colab.research.google.com/assets/colab-badge.svg\" alt=\"Open In Colab\"/></a>"
      ]
    },
    {
      "cell_type": "markdown",
      "metadata": {
        "id": "KSrgMJ5vKFzQ",
        "colab_type": "text"
      },
      "source": [
        "# Fine-tuning VGG16 "
      ]
    },
    {
      "cell_type": "markdown",
      "metadata": {
        "id": "TIW7bZaAK-Hf",
        "colab_type": "text"
      },
      "source": [
        "This is based on section 5.3 *Using a pretrained convnet* of the book *Deep learning with Python* by Francois Chollet. I have made several changes to the code. I use the data that is already provided by Google. I don't download the data from Kaggle as in the deep learning book."
      ]
    },
    {
      "cell_type": "markdown",
      "metadata": {
        "id": "nsBq__dVo2pj",
        "colab_type": "text"
      },
      "source": [
        "## Feature extraction"
      ]
    },
    {
      "cell_type": "markdown",
      "metadata": {
        "id": "0g6ETAM9o54M",
        "colab_type": "text"
      },
      "source": [
        "Feature extraction consists of using the representations learned by a previous network to extract interesting features from new samples. These features are then run through a new classifier, which is trained from scratch.\n",
        "\n",
        "We will use here the convolutional base of the VGG16 model to extract the features. We will feed these features to a densely connected classifier with dropout. We will fine-tune some layers."
      ]
    },
    {
      "cell_type": "markdown",
      "metadata": {
        "id": "BqIG8QHMLNOn",
        "colab_type": "text"
      },
      "source": [
        "## Download the data"
      ]
    },
    {
      "cell_type": "markdown",
      "metadata": {
        "id": "t3I1jd7cKV6_",
        "colab_type": "text"
      },
      "source": [
        "Download the example data, a zip. of 2,000 JPG pictures of cats and dogs and extract it locally in ```/tmp```.\n",
        "\n"
      ]
    },
    {
      "cell_type": "code",
      "metadata": {
        "id": "JWjprHEXJ5Qi",
        "colab_type": "code",
        "outputId": "00754959-3088-48a6-e021-e0755da6bf5a",
        "colab": {
          "base_uri": "https://localhost:8080/",
          "height": 219
        }
      },
      "source": [
        "!wget --no-check-certificate \\\n",
        "    https://storage.googleapis.com/mledu-datasets/cats_and_dogs_filtered.zip \\\n",
        "    -O /tmp/cats_and_dogs_filtered.zip"
      ],
      "execution_count": 18,
      "outputs": [
        {
          "output_type": "stream",
          "text": [
            "--2020-04-14 00:05:59--  https://storage.googleapis.com/mledu-datasets/cats_and_dogs_filtered.zip\n",
            "Resolving storage.googleapis.com (storage.googleapis.com)... 74.125.24.128, 2404:6800:4003:c04::80\n",
            "Connecting to storage.googleapis.com (storage.googleapis.com)|74.125.24.128|:443... connected.\n",
            "HTTP request sent, awaiting response... 200 OK\n",
            "Length: 68606236 (65M) [application/zip]\n",
            "Saving to: ‘/tmp/cats_and_dogs_filtered.zip’\n",
            "\n",
            "/tmp/cats_and_dogs_ 100%[===================>]  65.43M   131MB/s    in 0.5s    \n",
            "\n",
            "2020-04-14 00:06:00 (131 MB/s) - ‘/tmp/cats_and_dogs_filtered.zip’ saved [68606236/68606236]\n",
            "\n"
          ],
          "name": "stdout"
        }
      ]
    },
    {
      "cell_type": "code",
      "metadata": {
        "id": "WvoHtdA-K6Rw",
        "colab_type": "code",
        "colab": {}
      },
      "source": [
        "import os\n",
        "import zipfile\n",
        "\n",
        "local_zip = '/tmp/cats_and_dogs_filtered.zip'\n",
        "zip_ref = zipfile.ZipFile(local_zip, 'r')\n",
        "zip_ref.extractall('/tmp')\n",
        "zip_ref.close()"
      ],
      "execution_count": 0,
      "outputs": []
    },
    {
      "cell_type": "markdown",
      "metadata": {
        "id": "shZiOBnJMyy_",
        "colab_type": "text"
      },
      "source": [
        "Note that the data provided by Google does not have a test set."
      ]
    },
    {
      "cell_type": "code",
      "metadata": {
        "id": "dL8ikM89LlsH",
        "colab_type": "code",
        "colab": {}
      },
      "source": [
        "base_dir = '/tmp/cats_and_dogs_filtered'\n",
        "train_dir = os.path.join(base_dir, 'train')\n",
        "validation_dir = os.path.join(base_dir, 'validation')\n",
        "\n",
        "# Directory with our training cat pictures\n",
        "train_cats_dir = os.path.join(train_dir, 'cats')\n",
        "\n",
        "# Directory with our training dog pictures\n",
        "train_dogs_dir = os.path.join(train_dir, 'dogs')\n",
        "\n",
        "# Directory with our validation cat pictures\n",
        "validation_cats_dir = os.path.join(validation_dir, 'cats')\n",
        "\n",
        "# Directory with our validation dog pictures\n",
        "validation_dogs_dir = os.path.join(validation_dir, 'dogs')"
      ],
      "execution_count": 0,
      "outputs": []
    },
    {
      "cell_type": "markdown",
      "metadata": {
        "id": "inyP8bcdXnn-",
        "colab_type": "text"
      },
      "source": [
        "## Build network with VGG16 convolution base and custom densely connected layers"
      ]
    },
    {
      "cell_type": "markdown",
      "metadata": {
        "id": "kQ48W5T9rHWu",
        "colab_type": "text"
      },
      "source": [
        "### Load the convolutional base"
      ]
    },
    {
      "cell_type": "code",
      "metadata": {
        "id": "Y0FgtANCXm_H",
        "colab_type": "code",
        "colab": {}
      },
      "source": [
        "%tensorflow_version 2.x\n",
        "\n",
        "import tensorflow as tf\n",
        "from tensorflow.keras.applications import Xception\n",
        "\n",
        "conv_base = Xception(\n",
        "    weights='imagenet', \n",
        "    include_top=False, \n",
        "    input_shape=(150, 150, 3))"
      ],
      "execution_count": 0,
      "outputs": []
    },
    {
      "cell_type": "markdown",
      "metadata": {
        "id": "D6OBHOO9q1ou",
        "colab_type": "text"
      },
      "source": [
        "### Freeze the convolutional base"
      ]
    },
    {
      "cell_type": "code",
      "metadata": {
        "id": "UleRo4Dpq6Ld",
        "colab_type": "code",
        "colab": {}
      },
      "source": [
        "conv_base.trainable = False"
      ],
      "execution_count": 0,
      "outputs": []
    },
    {
      "cell_type": "markdown",
      "metadata": {
        "id": "Qfx6PqhPrb7Q",
        "colab_type": "text"
      },
      "source": [
        "### Concatenate the convolutional base and densely connected layers"
      ]
    },
    {
      "cell_type": "code",
      "metadata": {
        "id": "qUpmocDAO3xm",
        "colab_type": "code",
        "colab": {}
      },
      "source": [
        "from tensorflow.keras import layers\n",
        "from tensorflow.keras import models\n",
        "from tensorflow.keras import optimizers\n",
        "\n",
        "model = models.Sequential()\n",
        "model.add(conv_base)\n",
        "model.add(layers.Flatten())\n",
        "model.add(layers.Dense(256, activation='relu'))\n",
        "model.add(layers.Dense(128, activation='relu'))\n",
        "#model.add(layers.Dropout(0.1))\n",
        "model.add(layers.Dense(1, activation='sigmoid'))"
      ],
      "execution_count": 0,
      "outputs": []
    },
    {
      "cell_type": "code",
      "metadata": {
        "id": "Fh6gZSeAjF7c",
        "colab_type": "code",
        "outputId": "4ffa1fbd-defc-49da-f51e-7c09c6000bd7",
        "colab": {
          "base_uri": "https://localhost:8080/",
          "height": 348
        }
      },
      "source": [
        "model.summary()"
      ],
      "execution_count": 0,
      "outputs": [
        {
          "output_type": "stream",
          "text": [
            "Model: \"sequential_2\"\n",
            "_________________________________________________________________\n",
            "Layer (type)                 Output Shape              Param #   \n",
            "=================================================================\n",
            "xception (Model)             (None, 5, 5, 2048)        20861480  \n",
            "_________________________________________________________________\n",
            "flatten_2 (Flatten)          (None, 51200)             0         \n",
            "_________________________________________________________________\n",
            "dense_5 (Dense)              (None, 256)               13107456  \n",
            "_________________________________________________________________\n",
            "dense_6 (Dense)              (None, 128)               32896     \n",
            "_________________________________________________________________\n",
            "dense_7 (Dense)              (None, 1)                 129       \n",
            "=================================================================\n",
            "Total params: 34,001,961\n",
            "Trainable params: 13,140,481\n",
            "Non-trainable params: 20,861,480\n",
            "_________________________________________________________________\n"
          ],
          "name": "stdout"
        }
      ]
    },
    {
      "cell_type": "markdown",
      "metadata": {
        "id": "eZjBiddhi5Qj",
        "colab_type": "text"
      },
      "source": [
        "## Train the model end to end with frozen convolutional base"
      ]
    },
    {
      "cell_type": "code",
      "metadata": {
        "id": "tfAQlC2Oi41L",
        "colab_type": "code",
        "outputId": "928fd6b2-cbc1-40c5-f597-9b5d7395f0d5",
        "colab": {
          "base_uri": "https://localhost:8080/",
          "height": 384
        }
      },
      "source": [
        "from tensorflow.keras.preprocessing.image import ImageDataGenerator\n",
        "from tensorflow.keras import optimizers\n",
        "\n",
        "# data augmentation\n",
        "\n",
        "train_datagen = ImageDataGenerator(\n",
        "    rescale=1./255, \n",
        "    rotation_range=40,\n",
        "    width_shift_range=0.2,\n",
        "    height_shift_range=0.2,\n",
        "    shear_range=0.2,\n",
        "    zoom_range=0.2,\n",
        "    horizontal_flip=True,\n",
        "    fill_mode='nearest'\n",
        ")\n",
        "\n",
        "train_generator = train_datagen.flow_from_directory(\n",
        "    train_dir,\n",
        "    target_size=(150, 150),\n",
        "    batch_size=20,\n",
        "    class_mode='binary')\n",
        "\n",
        "validation_datagen = ImageDataGenerator(rescale=1./255)\n",
        "\n",
        "validation_generator = validation_datagen.flow_from_directory(\n",
        "    validation_dir,\n",
        "    target_size=(150, 150),\n",
        "    batch_size=20,\n",
        "    class_mode='binary')\n",
        "\n",
        "# compile model\n",
        "\n",
        "model.compile(\n",
        "    loss='binary_crossentropy', \n",
        "    optimizer=optimizers.RMSprop(lr=2e-5), \n",
        "    metrics=['acc'])\n",
        "\n",
        "# train\n",
        "\n",
        "history = model.fit_generator(\n",
        "    train_generator,\n",
        "    steps_per_epoch=100,\n",
        "    epochs=30,\n",
        "    validation_data=validation_generator,\n",
        "    validation_steps=50\n",
        ")"
      ],
      "execution_count": 0,
      "outputs": [
        {
          "output_type": "stream",
          "text": [
            "Found 2000 images belonging to 2 classes.\n",
            "Found 1000 images belonging to 2 classes.\n",
            "Epoch 1/30\n",
            "100/100 [==============================] - 21s 207ms/step - loss: 0.2425 - acc: 0.8940 - val_loss: 0.0935 - val_acc: 0.9600\n",
            "Epoch 2/30\n",
            "100/100 [==============================] - 20s 203ms/step - loss: 0.1762 - acc: 0.9265 - val_loss: 0.1031 - val_acc: 0.9620\n",
            "Epoch 3/30\n",
            "100/100 [==============================] - 20s 200ms/step - loss: 0.1510 - acc: 0.9320 - val_loss: 0.0865 - val_acc: 0.9630\n",
            "Epoch 4/30\n",
            "100/100 [==============================] - 20s 201ms/step - loss: 0.1460 - acc: 0.9350 - val_loss: 0.0831 - val_acc: 0.9670\n",
            "Epoch 5/30\n",
            "100/100 [==============================] - 20s 201ms/step - loss: 0.1416 - acc: 0.9425 - val_loss: 0.0901 - val_acc: 0.9650\n",
            "Epoch 6/30\n",
            "100/100 [==============================] - 20s 199ms/step - loss: 0.1387 - acc: 0.9355 - val_loss: 0.0719 - val_acc: 0.9700\n",
            "Epoch 7/30\n",
            "100/100 [==============================] - 20s 199ms/step - loss: 0.1291 - acc: 0.9495 - val_loss: 0.0866 - val_acc: 0.9640\n",
            "Epoch 8/30\n",
            "100/100 [==============================] - 20s 199ms/step - loss: 0.1191 - acc: 0.9510 - val_loss: 0.0884 - val_acc: 0.9690\n",
            "Epoch 9/30\n",
            " 56/100 [===============>..............] - ETA: 7s - loss: 0.1390 - acc: 0.9420"
          ],
          "name": "stdout"
        }
      ]
    },
    {
      "cell_type": "markdown",
      "metadata": {
        "id": "xqRc_vHKc92U",
        "colab_type": "text"
      },
      "source": [
        "## Display curves of loss and accuracy during training"
      ]
    },
    {
      "cell_type": "code",
      "metadata": {
        "id": "ybWwdzz9bwuQ",
        "colab_type": "code",
        "colab": {}
      },
      "source": [
        "%matplotlib inline\n",
        "\n",
        "import matplotlib.pyplot as plt\n",
        "\n",
        "acc = history.history['acc']\n",
        "val_acc = history.history['val_acc']\n",
        "\n",
        "loss = history.history['loss']\n",
        "val_loss = history.history['val_loss']\n",
        "\n",
        "epochs = range(1, len(acc) + 1)\n",
        "\n",
        "# training and validation accuracy\n",
        "\n",
        "plt.plot(epochs, acc, 'bo', label='training acc')\n",
        "plt.plot(epochs, val_acc, 'b', label='validation acc')\n",
        "plt.title('training and validation accuracy')\n",
        "plt.legend()\n",
        "\n",
        "plt.figure()\n",
        "\n",
        "# training and validation loss\n",
        "\n",
        "plt.plot(epochs, loss, 'bo', label='training loss')\n",
        "plt.plot(epochs, val_loss, 'b', label='validation loss')\n",
        "plt.title('training and validation loss')\n",
        "plt.legend()\n",
        "\n",
        "plt.show()"
      ],
      "execution_count": 0,
      "outputs": []
    },
    {
      "cell_type": "markdown",
      "metadata": {
        "id": "lOWsxpey8lN0",
        "colab_type": "text"
      },
      "source": [
        "## Fine-tuning"
      ]
    },
    {
      "cell_type": "code",
      "metadata": {
        "id": "PwkVMx8N8qMw",
        "colab_type": "code",
        "colab": {}
      },
      "source": [
        "conv_base.trainable = True\n",
        "\n",
        "set_trainable = False\n",
        "for layer in conv_base.layers:\n",
        "  if layer.name == 'block5_conv1':\n",
        "    set_trainable = True\n",
        "  if set_trainable:\n",
        "    layer.trainable = True\n",
        "  else:\n",
        "    layer.trainable = False"
      ],
      "execution_count": 0,
      "outputs": []
    },
    {
      "cell_type": "code",
      "metadata": {
        "id": "DyN-J7rs9cvo",
        "colab_type": "code",
        "outputId": "7ac81753-1305-41f3-d9f7-c57973b83429",
        "colab": {
          "base_uri": "https://localhost:8080/",
          "height": 1000
        }
      },
      "source": [
        "# compile model\n",
        "\n",
        "model.compile(\n",
        "    loss='binary_crossentropy',\n",
        "    #\n",
        "    # choose a smaller learning rate\n",
        "    #\n",
        "    optimizer=optimizers.RMSprop(lr=1e-5), \n",
        "    metrics=['acc'])\n",
        "\n",
        "# train\n",
        "\n",
        "history = model.fit_generator(\n",
        "    train_generator,\n",
        "    steps_per_epoch=100,\n",
        "    epochs=100,\n",
        "    validation_data=validation_generator,\n",
        "    validation_steps=50)"
      ],
      "execution_count": 0,
      "outputs": [
        {
          "output_type": "stream",
          "text": [
            "Epoch 1/100\n",
            "100/100 [==============================] - 20s 202ms/step - loss: 0.0740 - acc: 0.9680 - val_loss: 0.0821 - val_acc: 0.9740\n",
            "Epoch 2/100\n",
            "100/100 [==============================] - 20s 198ms/step - loss: 0.0614 - acc: 0.9770 - val_loss: 0.0967 - val_acc: 0.9710\n",
            "Epoch 3/100\n",
            "100/100 [==============================] - 20s 200ms/step - loss: 0.0458 - acc: 0.9860 - val_loss: 0.0928 - val_acc: 0.9670\n",
            "Epoch 4/100\n",
            "100/100 [==============================] - 20s 203ms/step - loss: 0.0589 - acc: 0.9815 - val_loss: 0.0865 - val_acc: 0.9710\n",
            "Epoch 5/100\n",
            "100/100 [==============================] - 20s 198ms/step - loss: 0.0533 - acc: 0.9805 - val_loss: 0.0815 - val_acc: 0.9740\n",
            "Epoch 6/100\n",
            "100/100 [==============================] - 20s 200ms/step - loss: 0.0592 - acc: 0.9825 - val_loss: 0.0782 - val_acc: 0.9740\n",
            "Epoch 7/100\n",
            "100/100 [==============================] - 20s 200ms/step - loss: 0.0510 - acc: 0.9795 - val_loss: 0.0795 - val_acc: 0.9770\n",
            "Epoch 8/100\n",
            "100/100 [==============================] - 20s 202ms/step - loss: 0.0522 - acc: 0.9765 - val_loss: 0.1192 - val_acc: 0.9560\n",
            "Epoch 9/100\n",
            "100/100 [==============================] - 20s 200ms/step - loss: 0.0586 - acc: 0.9765 - val_loss: 0.0870 - val_acc: 0.9730\n",
            "Epoch 10/100\n",
            "100/100 [==============================] - 20s 201ms/step - loss: 0.0540 - acc: 0.9800 - val_loss: 0.0896 - val_acc: 0.9720\n",
            "Epoch 11/100\n",
            "100/100 [==============================] - 20s 200ms/step - loss: 0.0485 - acc: 0.9800 - val_loss: 0.1148 - val_acc: 0.9630\n",
            "Epoch 12/100\n",
            "100/100 [==============================] - 20s 203ms/step - loss: 0.0553 - acc: 0.9760 - val_loss: 0.0946 - val_acc: 0.9720\n",
            "Epoch 13/100\n",
            "100/100 [==============================] - 20s 203ms/step - loss: 0.0520 - acc: 0.9820 - val_loss: 0.0778 - val_acc: 0.9730\n",
            "Epoch 14/100\n",
            "100/100 [==============================] - 21s 207ms/step - loss: 0.0489 - acc: 0.9850 - val_loss: 0.0951 - val_acc: 0.9670\n",
            "Epoch 15/100\n",
            "100/100 [==============================] - 20s 203ms/step - loss: 0.0539 - acc: 0.9785 - val_loss: 0.0744 - val_acc: 0.9720\n",
            "Epoch 16/100\n",
            "100/100 [==============================] - 20s 200ms/step - loss: 0.0470 - acc: 0.9840 - val_loss: 0.0843 - val_acc: 0.9750\n",
            "Epoch 17/100\n",
            "100/100 [==============================] - 20s 203ms/step - loss: 0.0545 - acc: 0.9835 - val_loss: 0.0813 - val_acc: 0.9740\n",
            "Epoch 18/100\n",
            "100/100 [==============================] - 20s 203ms/step - loss: 0.0464 - acc: 0.9810 - val_loss: 0.0833 - val_acc: 0.9720\n",
            "Epoch 19/100\n",
            "100/100 [==============================] - 20s 202ms/step - loss: 0.0437 - acc: 0.9835 - val_loss: 0.0769 - val_acc: 0.9730\n",
            "Epoch 20/100\n",
            "100/100 [==============================] - 20s 199ms/step - loss: 0.0433 - acc: 0.9825 - val_loss: 0.0877 - val_acc: 0.9770\n",
            "Epoch 21/100\n",
            "100/100 [==============================] - 20s 201ms/step - loss: 0.0380 - acc: 0.9865 - val_loss: 0.1017 - val_acc: 0.9700\n",
            "Epoch 22/100\n",
            "100/100 [==============================] - 20s 202ms/step - loss: 0.0364 - acc: 0.9890 - val_loss: 0.0968 - val_acc: 0.9710\n",
            "Epoch 23/100\n",
            "100/100 [==============================] - 20s 202ms/step - loss: 0.0434 - acc: 0.9850 - val_loss: 0.0781 - val_acc: 0.9750\n",
            "Epoch 24/100\n",
            "100/100 [==============================] - 20s 201ms/step - loss: 0.0390 - acc: 0.9840 - val_loss: 0.1003 - val_acc: 0.9670\n",
            "Epoch 25/100\n",
            "100/100 [==============================] - 20s 201ms/step - loss: 0.0425 - acc: 0.9835 - val_loss: 0.0723 - val_acc: 0.9740\n",
            "Epoch 26/100\n",
            "100/100 [==============================] - 20s 200ms/step - loss: 0.0458 - acc: 0.9830 - val_loss: 0.1202 - val_acc: 0.9620\n",
            "Epoch 27/100\n",
            "100/100 [==============================] - 20s 201ms/step - loss: 0.0426 - acc: 0.9850 - val_loss: 0.0842 - val_acc: 0.9730\n",
            "Epoch 28/100\n",
            "100/100 [==============================] - 20s 199ms/step - loss: 0.0323 - acc: 0.9885 - val_loss: 0.1029 - val_acc: 0.9690\n",
            "Epoch 29/100\n",
            "100/100 [==============================] - 20s 199ms/step - loss: 0.0435 - acc: 0.9825 - val_loss: 0.0977 - val_acc: 0.9700\n",
            "Epoch 30/100\n",
            "100/100 [==============================] - 20s 200ms/step - loss: 0.0409 - acc: 0.9815 - val_loss: 0.0837 - val_acc: 0.9740\n",
            "Epoch 31/100\n",
            "100/100 [==============================] - 20s 200ms/step - loss: 0.0457 - acc: 0.9845 - val_loss: 0.0811 - val_acc: 0.9750\n",
            "Epoch 32/100\n",
            "100/100 [==============================] - 20s 199ms/step - loss: 0.0299 - acc: 0.9895 - val_loss: 0.0891 - val_acc: 0.9720\n",
            "Epoch 33/100\n",
            "100/100 [==============================] - 20s 199ms/step - loss: 0.0428 - acc: 0.9860 - val_loss: 0.1111 - val_acc: 0.9660\n",
            "Epoch 34/100\n",
            "100/100 [==============================] - 20s 201ms/step - loss: 0.0418 - acc: 0.9835 - val_loss: 0.0857 - val_acc: 0.9740\n",
            "Epoch 35/100\n",
            "100/100 [==============================] - 20s 201ms/step - loss: 0.0329 - acc: 0.9850 - val_loss: 0.0813 - val_acc: 0.9680\n",
            "Epoch 36/100\n",
            "100/100 [==============================] - 20s 199ms/step - loss: 0.0341 - acc: 0.9870 - val_loss: 0.0902 - val_acc: 0.9740\n",
            "Epoch 37/100\n",
            "100/100 [==============================] - 20s 201ms/step - loss: 0.0343 - acc: 0.9870 - val_loss: 0.1023 - val_acc: 0.9650\n",
            "Epoch 38/100\n",
            "100/100 [==============================] - 20s 200ms/step - loss: 0.0337 - acc: 0.9850 - val_loss: 0.0976 - val_acc: 0.9680\n",
            "Epoch 39/100\n",
            "100/100 [==============================] - 20s 204ms/step - loss: 0.0336 - acc: 0.9865 - val_loss: 0.0969 - val_acc: 0.9730\n",
            "Epoch 40/100\n",
            "100/100 [==============================] - 20s 201ms/step - loss: 0.0442 - acc: 0.9860 - val_loss: 0.0761 - val_acc: 0.9700\n",
            "Epoch 41/100\n",
            "100/100 [==============================] - 20s 197ms/step - loss: 0.0275 - acc: 0.9910 - val_loss: 0.1002 - val_acc: 0.9690\n",
            "Epoch 42/100\n",
            "100/100 [==============================] - 20s 200ms/step - loss: 0.0391 - acc: 0.9905 - val_loss: 0.1085 - val_acc: 0.9680\n",
            "Epoch 43/100\n",
            "100/100 [==============================] - 20s 200ms/step - loss: 0.0326 - acc: 0.9890 - val_loss: 0.0877 - val_acc: 0.9740\n",
            "Epoch 44/100\n",
            "100/100 [==============================] - 20s 197ms/step - loss: 0.0337 - acc: 0.9865 - val_loss: 0.1168 - val_acc: 0.9660\n",
            "Epoch 45/100\n",
            "100/100 [==============================] - 20s 202ms/step - loss: 0.0281 - acc: 0.9900 - val_loss: 0.0832 - val_acc: 0.9720\n",
            "Epoch 46/100\n",
            "100/100 [==============================] - 20s 199ms/step - loss: 0.0195 - acc: 0.9915 - val_loss: 0.1292 - val_acc: 0.9650\n",
            "Epoch 47/100\n",
            "100/100 [==============================] - 20s 199ms/step - loss: 0.0402 - acc: 0.9890 - val_loss: 0.0943 - val_acc: 0.9710\n",
            "Epoch 48/100\n",
            "100/100 [==============================] - 20s 199ms/step - loss: 0.0436 - acc: 0.9865 - val_loss: 0.0910 - val_acc: 0.9710\n",
            "Epoch 49/100\n",
            "100/100 [==============================] - 20s 198ms/step - loss: 0.0315 - acc: 0.9875 - val_loss: 0.0766 - val_acc: 0.9770\n",
            "Epoch 50/100\n",
            "100/100 [==============================] - 20s 202ms/step - loss: 0.0231 - acc: 0.9940 - val_loss: 0.1090 - val_acc: 0.9630\n",
            "Epoch 51/100\n",
            "100/100 [==============================] - 20s 200ms/step - loss: 0.0335 - acc: 0.9880 - val_loss: 0.1433 - val_acc: 0.9620\n",
            "Epoch 52/100\n",
            "100/100 [==============================] - 20s 199ms/step - loss: 0.0410 - acc: 0.9860 - val_loss: 0.0795 - val_acc: 0.9730\n",
            "Epoch 53/100\n",
            "100/100 [==============================] - 20s 198ms/step - loss: 0.0257 - acc: 0.9900 - val_loss: 0.1053 - val_acc: 0.9720\n",
            "Epoch 54/100\n",
            "100/100 [==============================] - 20s 201ms/step - loss: 0.0413 - acc: 0.9850 - val_loss: 0.0869 - val_acc: 0.9750\n",
            "Epoch 55/100\n",
            "100/100 [==============================] - 20s 204ms/step - loss: 0.0379 - acc: 0.9860 - val_loss: 0.0858 - val_acc: 0.9710\n",
            "Epoch 56/100\n",
            "100/100 [==============================] - 20s 198ms/step - loss: 0.0266 - acc: 0.9910 - val_loss: 0.1016 - val_acc: 0.9700\n",
            "Epoch 57/100\n",
            "100/100 [==============================] - 20s 197ms/step - loss: 0.0360 - acc: 0.9895 - val_loss: 0.1036 - val_acc: 0.9680\n",
            "Epoch 58/100\n",
            "100/100 [==============================] - 20s 199ms/step - loss: 0.0348 - acc: 0.9885 - val_loss: 0.0893 - val_acc: 0.9760\n",
            "Epoch 59/100\n",
            "100/100 [==============================] - 20s 200ms/step - loss: 0.0351 - acc: 0.9850 - val_loss: 0.0888 - val_acc: 0.9730\n",
            "Epoch 60/100\n",
            "100/100 [==============================] - 20s 199ms/step - loss: 0.0228 - acc: 0.9945 - val_loss: 0.0847 - val_acc: 0.9730\n",
            "Epoch 61/100\n",
            "100/100 [==============================] - 20s 198ms/step - loss: 0.0205 - acc: 0.9925 - val_loss: 0.1041 - val_acc: 0.9650\n",
            "Epoch 62/100\n",
            "100/100 [==============================] - 20s 197ms/step - loss: 0.0265 - acc: 0.9900 - val_loss: 0.0870 - val_acc: 0.9730\n",
            "Epoch 63/100\n",
            "100/100 [==============================] - 20s 201ms/step - loss: 0.0370 - acc: 0.9880 - val_loss: 0.0850 - val_acc: 0.9750\n",
            "Epoch 64/100\n",
            "100/100 [==============================] - 20s 199ms/step - loss: 0.0328 - acc: 0.9880 - val_loss: 0.0979 - val_acc: 0.9730\n",
            "Epoch 65/100\n",
            "100/100 [==============================] - 20s 199ms/step - loss: 0.0310 - acc: 0.9875 - val_loss: 0.0788 - val_acc: 0.9790\n",
            "Epoch 66/100\n",
            "100/100 [==============================] - 20s 198ms/step - loss: 0.0231 - acc: 0.9910 - val_loss: 0.1052 - val_acc: 0.9730\n",
            "Epoch 67/100\n",
            "100/100 [==============================] - 20s 200ms/step - loss: 0.0453 - acc: 0.9880 - val_loss: 0.0931 - val_acc: 0.9700\n",
            "Epoch 68/100\n",
            "100/100 [==============================] - 20s 199ms/step - loss: 0.0187 - acc: 0.9935 - val_loss: 0.0910 - val_acc: 0.9700\n",
            "Epoch 69/100\n",
            "100/100 [==============================] - 20s 199ms/step - loss: 0.0165 - acc: 0.9950 - val_loss: 0.0947 - val_acc: 0.9750\n",
            "Epoch 70/100\n",
            "100/100 [==============================] - 20s 204ms/step - loss: 0.0236 - acc: 0.9915 - val_loss: 0.0925 - val_acc: 0.9730\n",
            "Epoch 71/100\n",
            "100/100 [==============================] - 20s 200ms/step - loss: 0.0243 - acc: 0.9905 - val_loss: 0.0969 - val_acc: 0.9720\n",
            "Epoch 72/100\n",
            "100/100 [==============================] - 20s 200ms/step - loss: 0.0326 - acc: 0.9885 - val_loss: 0.0955 - val_acc: 0.9720\n",
            "Epoch 73/100\n",
            "100/100 [==============================] - 20s 202ms/step - loss: 0.0260 - acc: 0.9905 - val_loss: 0.1058 - val_acc: 0.9710\n",
            "Epoch 74/100\n",
            "100/100 [==============================] - 20s 201ms/step - loss: 0.0335 - acc: 0.9895 - val_loss: 0.0810 - val_acc: 0.9740\n",
            "Epoch 75/100\n",
            "100/100 [==============================] - 20s 201ms/step - loss: 0.0260 - acc: 0.9910 - val_loss: 0.0923 - val_acc: 0.9730\n",
            "Epoch 76/100\n",
            "100/100 [==============================] - 20s 200ms/step - loss: 0.0257 - acc: 0.9905 - val_loss: 0.0861 - val_acc: 0.9770\n",
            "Epoch 77/100\n",
            "100/100 [==============================] - 20s 200ms/step - loss: 0.0315 - acc: 0.9895 - val_loss: 0.1045 - val_acc: 0.9670\n",
            "Epoch 78/100\n",
            "100/100 [==============================] - 20s 203ms/step - loss: 0.0293 - acc: 0.9915 - val_loss: 0.1011 - val_acc: 0.9730\n",
            "Epoch 79/100\n",
            "100/100 [==============================] - 20s 202ms/step - loss: 0.0272 - acc: 0.9920 - val_loss: 0.0793 - val_acc: 0.9720\n",
            "Epoch 80/100\n",
            "100/100 [==============================] - 20s 200ms/step - loss: 0.0159 - acc: 0.9960 - val_loss: 0.0984 - val_acc: 0.9750\n",
            "Epoch 81/100\n",
            "100/100 [==============================] - 20s 205ms/step - loss: 0.0239 - acc: 0.9905 - val_loss: 0.1044 - val_acc: 0.9680\n",
            "Epoch 82/100\n",
            "100/100 [==============================] - 20s 201ms/step - loss: 0.0331 - acc: 0.9890 - val_loss: 0.1077 - val_acc: 0.9710\n",
            "Epoch 83/100\n",
            "100/100 [==============================] - 20s 201ms/step - loss: 0.0230 - acc: 0.9920 - val_loss: 0.1089 - val_acc: 0.9730\n",
            "Epoch 84/100\n",
            "100/100 [==============================] - 20s 199ms/step - loss: 0.0350 - acc: 0.9880 - val_loss: 0.0548 - val_acc: 0.9780\n",
            "Epoch 85/100\n",
            "100/100 [==============================] - 20s 202ms/step - loss: 0.0212 - acc: 0.9920 - val_loss: 0.0982 - val_acc: 0.9770\n",
            "Epoch 86/100\n",
            "100/100 [==============================] - 20s 200ms/step - loss: 0.0401 - acc: 0.9885 - val_loss: 0.0880 - val_acc: 0.9730\n",
            "Epoch 87/100\n",
            "100/100 [==============================] - 20s 199ms/step - loss: 0.0248 - acc: 0.9910 - val_loss: 0.0876 - val_acc: 0.9770\n",
            "Epoch 88/100\n",
            "100/100 [==============================] - 20s 199ms/step - loss: 0.0352 - acc: 0.9875 - val_loss: 0.0859 - val_acc: 0.9740\n",
            "Epoch 89/100\n",
            "100/100 [==============================] - 20s 198ms/step - loss: 0.0316 - acc: 0.9905 - val_loss: 0.0876 - val_acc: 0.9740\n",
            "Epoch 90/100\n",
            "100/100 [==============================] - 20s 199ms/step - loss: 0.0359 - acc: 0.9885 - val_loss: 0.0988 - val_acc: 0.9680\n",
            "Epoch 91/100\n",
            "100/100 [==============================] - 20s 202ms/step - loss: 0.0236 - acc: 0.9920 - val_loss: 0.0768 - val_acc: 0.9770\n",
            "Epoch 92/100\n",
            "100/100 [==============================] - 21s 206ms/step - loss: 0.0192 - acc: 0.9920 - val_loss: 0.1251 - val_acc: 0.9700\n",
            "Epoch 93/100\n",
            "100/100 [==============================] - 20s 203ms/step - loss: 0.0257 - acc: 0.9935 - val_loss: 0.0533 - val_acc: 0.9830\n",
            "Epoch 94/100\n",
            "100/100 [==============================] - 20s 200ms/step - loss: 0.0178 - acc: 0.9940 - val_loss: 0.1322 - val_acc: 0.9650\n",
            "Epoch 95/100\n",
            "100/100 [==============================] - 20s 201ms/step - loss: 0.0282 - acc: 0.9905 - val_loss: 0.0851 - val_acc: 0.9750\n",
            "Epoch 96/100\n",
            "100/100 [==============================] - 20s 201ms/step - loss: 0.0336 - acc: 0.9890 - val_loss: 0.1241 - val_acc: 0.9640\n",
            "Epoch 97/100\n",
            "100/100 [==============================] - 20s 199ms/step - loss: 0.0210 - acc: 0.9920 - val_loss: 0.1098 - val_acc: 0.9710\n",
            "Epoch 98/100\n",
            "100/100 [==============================] - 20s 200ms/step - loss: 0.0270 - acc: 0.9915 - val_loss: 0.0782 - val_acc: 0.9750\n",
            "Epoch 99/100\n",
            "100/100 [==============================] - 20s 201ms/step - loss: 0.0224 - acc: 0.9915 - val_loss: 0.1207 - val_acc: 0.9650\n",
            "Epoch 100/100\n",
            "100/100 [==============================] - 20s 199ms/step - loss: 0.0172 - acc: 0.9935 - val_loss: 0.1141 - val_acc: 0.9660\n"
          ],
          "name": "stdout"
        }
      ]
    },
    {
      "cell_type": "markdown",
      "metadata": {
        "id": "eVBQgh5M-Rtz",
        "colab_type": "text"
      },
      "source": [
        "## Display learning curves during fine-tuning"
      ]
    },
    {
      "cell_type": "code",
      "metadata": {
        "id": "mbkIw7Ie-NP4",
        "colab_type": "code",
        "outputId": "25bbb0f5-14e4-4467-b069-ac57bc9daa41",
        "colab": {
          "base_uri": "https://localhost:8080/",
          "height": 545
        }
      },
      "source": [
        "%matplotlib inline\n",
        "\n",
        "import matplotlib.pyplot as plt\n",
        "\n",
        "acc = history.history['acc']\n",
        "val_acc = history.history['val_acc']\n",
        "\n",
        "loss = history.history['loss']\n",
        "val_loss = history.history['val_loss']\n",
        "\n",
        "epochs = range(1, len(acc) + 1)\n",
        "\n",
        "# training and validation accuracy\n",
        "\n",
        "plt.plot(epochs, acc, 'bo', label='training acc')\n",
        "plt.plot(epochs, val_acc, 'b', label='validation acc')\n",
        "plt.title('training and validation accuracy')\n",
        "plt.legend()\n",
        "\n",
        "plt.figure()\n",
        "\n",
        "# training and validation loss\n",
        "\n",
        "plt.plot(epochs, loss, 'bo', label='training loss')\n",
        "plt.plot(epochs, val_loss, 'b', label='validation loss')\n",
        "plt.title('training and validation loss')\n",
        "plt.legend()\n",
        "\n",
        "plt.show()"
      ],
      "execution_count": 0,
      "outputs": [
        {
          "output_type": "display_data",
          "data": {
            "image/png": "[encoded data removed]",
            "text/plain": [
              "<Figure size 432x288 with 1 Axes>"
            ]
          },
          "metadata": {
            "tags": []
          }
        },
        {
          "output_type": "display_data",
          "data": {
            "image/png": "[encoded data removed]",
            "text/plain": [
              "<Figure size 432x288 with 1 Axes>"
            ]
          },
          "metadata": {
            "tags": []
          }
        }
      ]
    },
    {
      "cell_type": "markdown",
      "metadata": {
        "id": "obQi6N4ZShdi",
        "colab_type": "text"
      },
      "source": [
        "This looks like overfitting. I should try  adding dropout for the densely connected layer."
      ]
    },
    {
      "cell_type": "markdown",
      "metadata": {
        "id": "he3Nw6TOJwjx",
        "colab_type": "text"
      },
      "source": [
        "## Print out validation loss and accuracy"
      ]
    },
    {
      "cell_type": "code",
      "metadata": {
        "id": "SVQtrk7uJdhl",
        "colab_type": "code",
        "outputId": "44f8aa0d-c59f-4dba-8493-55a7886a6156",
        "colab": {
          "base_uri": "https://localhost:8080/",
          "height": 72
        }
      },
      "source": [
        "val_loss, val_acc = model.evaluate_generator(validation_generator, steps=50)"
      ],
      "execution_count": 0,
      "outputs": [
        {
          "output_type": "stream",
          "text": [
            "WARNING:tensorflow:From <ipython-input-34-b8f112b0a6b9>:1: Model.evaluate_generator (from tensorflow.python.keras.engine.training) is deprecated and will be removed in a future version.\n",
            "Instructions for updating:\n",
            "Please use Model.evaluate, which supports generators.\n"
          ],
          "name": "stdout"
        }
      ]
    },
    {
      "cell_type": "code",
      "metadata": {
        "id": "HpdddLi1SUMe",
        "colab_type": "code",
        "outputId": "3f64df7d-1654-4c43-c6f7-d1771d8b3368",
        "colab": {
          "base_uri": "https://localhost:8080/",
          "height": 50
        }
      },
      "source": [
        "print(\"Validation loss:\", val_loss)\n",
        "print(\"Validation accuracy:\", val_acc)"
      ],
      "execution_count": 0,
      "outputs": [
        {
          "output_type": "stream",
          "text": [
            "Validation loss: 0.2544833068206435\n",
            "Validation accuracy: 0.9499999916553498\n"
          ],
          "name": "stdout"
        }
      ]
    },
    {
      "cell_type": "markdown",
      "metadata": {
        "id": "7Ww756WToby8",
        "colab_type": "text"
      },
      "source": [
        "## Save the model"
      ]
    },
    {
      "cell_type": "code",
      "metadata": {
        "id": "0lTUpUdwobKW",
        "colab_type": "code",
        "colab": {}
      },
      "source": [
        "model_fname = 'cats_and_dogs_small_4.h5' \n",
        "model.save(model_fname)"
      ],
      "execution_count": 0,
      "outputs": []
    },
    {
      "cell_type": "code",
      "metadata": {
        "id": "YhEoI8ZTok-X",
        "colab_type": "code",
        "colab": {}
      },
      "source": [
        "from google.colab import files\n",
        "\n",
        "with open(model_fname, 'r') as f:\n",
        "  files.download(model_fname)"
      ],
      "execution_count": 0,
      "outputs": []
    },
    {
      "cell_type": "code",
      "metadata": {
        "id": "VNEL4CCcS0Oj",
        "colab_type": "code",
        "colab": {}
      },
      "source": [
        ""
      ],
      "execution_count": 0,
      "outputs": []
    }
  ]
}