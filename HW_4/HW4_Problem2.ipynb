{
  "nbformat": 4,
  "nbformat_minor": 0,
  "metadata": {
    "colab": {
      "name": "HW4_Problem2",
      "provenance": [],
      "collapsed_sections": [],
      "authorship_tag": "ABX9TyNrp8Lk+9JZCW7u85A/UNRF",
      "include_colab_link": true
    },
    "kernelspec": {
      "name": "python3",
      "display_name": "Python 3"
    }
  },
  "cells": [
    {
      "cell_type": "markdown",
      "metadata": {
        "id": "view-in-github",
        "colab_type": "text"
      },
      "source": [
        "<a href=\"https://colab.research.google.com/github/Xylenox/CAP4630/blob/master/HW_4/HW4_Problem2.ipynb\" target=\"_parent\"><img src=\"https://colab.research.google.com/assets/colab-badge.svg\" alt=\"Open In Colab\"/></a>"
      ]
    },
    {
      "cell_type": "code",
      "metadata": {
        "id": "Q1MNLdOzytVi",
        "colab_type": "code",
        "colab": {}
      },
      "source": [
        "import numpy as np"
      ],
      "execution_count": 0,
      "outputs": []
    },
    {
      "cell_type": "code",
      "metadata": {
        "id": "ghXGahSM0uzh",
        "colab_type": "code",
        "colab": {}
      },
      "source": [
        "def maxpooling2d(input_mat, s):\n",
        "  if input_mat.shape[0] != input_mat.shape[1]:\n",
        "    raise ValueError(\"Input Matrix is not square\")\n",
        "  output_mat = np.zeros((input_mat.shape[0]-s+1, input_mat.shape[1]-s+1))\n",
        "  for x in range(0, output_mat.shape[0]):\n",
        "    for y in range(0, output_mat.shape[1]):\n",
        "      output_mat[x][y] = input_mat[x][y]\n",
        "      for dx in range(0, s):\n",
        "        for dy in range(0, s):\n",
        "          if(input_mat[x+dx][y+dy] > output_mat[x][y]):\n",
        "            output_mat[x][y] = input_mat[x+dx][y+dy]\n",
        "  return output_mat"
      ],
      "execution_count": 0,
      "outputs": []
    },
    {
      "cell_type": "code",
      "metadata": {
        "id": "YpsQhdGd0wO0",
        "colab_type": "code",
        "outputId": "c842153b-a9dd-457b-fca2-cc60cd1ab57a",
        "colab": {
          "base_uri": "https://localhost:8080/",
          "height": 54
        }
      },
      "source": [
        "print(maxpooling2d(np.array([[1, 2, 3], [4, 5, 6], [7, 8, 9]]), 2))"
      ],
      "execution_count": 0,
      "outputs": [
        {
          "output_type": "stream",
          "text": [
            "[[5. 6.]\n",
            " [8. 9.]]\n"
          ],
          "name": "stdout"
        }
      ]
    }
  ]
}