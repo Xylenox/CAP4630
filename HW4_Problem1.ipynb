{
  "nbformat": 4,
  "nbformat_minor": 0,
  "metadata": {
    "colab": {
      "name": "HW4_Problem1",
      "provenance": [],
      "authorship_tag": "ABX9TyNRvRr6wANKd1omuF3/+FhT",
      "include_colab_link": true
    },
    "kernelspec": {
      "name": "python3",
      "display_name": "Python 3"
    }
  },
  "cells": [
    {
      "cell_type": "markdown",
      "metadata": {
        "id": "view-in-github",
        "colab_type": "text"
      },
      "source": [
        "<a href=\"https://colab.research.google.com/github/Xylenox/CAP4630/blob/master/HW4_Problem1.ipynb\" target=\"_parent\"><img src=\"https://colab.research.google.com/assets/colab-badge.svg\" alt=\"Open In Colab\"/></a>"
      ]
    },
    {
      "cell_type": "code",
      "metadata": {
        "id": "xFmEfrJ4ndEU",
        "colab_type": "code",
        "colab": {}
      },
      "source": [
        "import numpy as np"
      ],
      "execution_count": 0,
      "outputs": []
    },
    {
      "cell_type": "code",
      "metadata": {
        "id": "9-_kgRV5oaUd",
        "colab_type": "code",
        "colab": {}
      },
      "source": [
        "def conv2d(input_mat, kernal_mat):\n",
        "  output_mat = np.zeros((input_mat.shape[0]-kernal_mat.shape[0]+1, input_mat.shape[1]-kernal_mat.shape[1]+1))\n",
        "  for x in range(0, output_mat.shape[0]):\n",
        "    for y in range(0, output_mat.shape[1]):\n",
        "      for dx in range(0, kernal_mat.shape[0]):\n",
        "        for dy in range(0, kernal_mat.shape[1]):\n",
        "          output_mat[x][y] += input_mat[x+dx][y+dy]*kernal_mat[dx][dy]\n",
        "  return output_mat"
      ],
      "execution_count": 0,
      "outputs": []
    },
    {
      "cell_type": "code",
      "metadata": {
        "id": "FOdaWNvHpYkH",
        "colab_type": "code",
        "outputId": "505a4d26-2369-49af-f062-7ef46a68dddd",
        "colab": {
          "base_uri": "https://localhost:8080/",
          "height": 54
        }
      },
      "source": [
        "print(conv2d(np.array([[1, 2, 3], [4, 5, 6], [7, 8, 9]]), np.array([[1, 2], [2, 1]])))"
      ],
      "execution_count": 0,
      "outputs": [
        {
          "output_type": "stream",
          "text": [
            "[[18. 24.]\n",
            " [36. 42.]]\n"
          ],
          "name": "stdout"
        }
      ]
    }
  ]
}