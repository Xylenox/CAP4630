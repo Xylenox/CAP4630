{
  "nbformat": 4,
  "nbformat_minor": 0,
  "metadata": {
    "colab": {
      "name": "Copy of HW5",
      "provenance": [],
      "collapsed_sections": [],
      "authorship_tag": "ABX9TyPR7e3eubmLlYKDA0WhneLI",
      "include_colab_link": true
    },
    "kernelspec": {
      "name": "python3",
      "display_name": "Python 3"
    }
  },
  "cells": [
    {
      "cell_type": "markdown",
      "metadata": {
        "id": "view-in-github",
        "colab_type": "text"
      },
      "source": [
        "<a href=\"https://colab.research.google.com/github/Xylenox/CAP4630/blob/master/HW_5/HW5.ipynb\" target=\"_parent\"><img src=\"https://colab.research.google.com/assets/colab-badge.svg\" alt=\"Open In Colab\"/></a>"
      ]
    },
    {
      "cell_type": "markdown",
      "metadata": {
        "id": "4TCFO2mewZ3v",
        "colab_type": "text"
      },
      "source": [
        "# 1. General Concepts"
      ]
    },
    {
      "cell_type": "markdown",
      "metadata": {
        "id": "7EwAAwc9xI1X",
        "colab_type": "text"
      },
      "source": [
        "### Aritifical Intelligence\n",
        "Artificial Intelligence is \"the science and engineering of making intelligent machines.\" It's basically making machines that can make decisions without human input.\n",
        "\n",
        "### Machine Learning\n",
        "Machine learning is the technique of letting machines take in information and use it to learn how to do things better. Instead of always doing the same thing on the same input, the machine can learn how to do the task better and return a better result.\n",
        "\n",
        "### Deep Learning\n",
        "Deep learning is a subst of machine learning that relies on neural networks. They are inspired by biological neurons in animal brains. They aren't programmed from a specific task, and learn from a set of examples to do some task."
      ]
    },
    {
      "cell_type": "markdown",
      "metadata": {
        "colab_type": "text",
        "id": "UHYWqmcJGUe3"
      },
      "source": [
        "# 2. Basic Concepts"
      ]
    },
    {
      "cell_type": "markdown",
      "metadata": {
        "id": "BUm1I5xZAkT7",
        "colab_type": "text"
      },
      "source": [
        "### Linear Regression\n",
        "Linear regression is a type of regression that predicts the output value as a linear combination of the input features plus a bias.\n",
        "\n",
        "A linear regression model has a set of weights, $w=(w_1, \\ldots, w_n)$, and a bias $b$. If the input is $x=(x_1, \\ldots, x_n)$, then the output will be $w_1*x_1 + \\ldots + w_2*x_2 + b$.\n",
        "\n",
        "### Logistic Regression\n",
        "Logistic regression is a type of regression that predicts the probability that a set of input features is one of two different classes. Logistic regression is very similar to linear regression in that it as a set of weights and a bias. The difference is that instead of the output being $w_1*x_1 + \\ldots + w_2*x_2 + b$, the out put is $\\sigma(w_1*x_1 + \\ldots + w_2*x_2 + b)$. $\\sigma(x) = \\frac{1}{1+e^{-x}}$, also known as the sigmoid function.\n",
        "\n",
        "### Gradient\n",
        "The gradient of a function at a specific point is the vector in which the change of the function in that direction is maximal. In other words, give a function $f(x)$, where $x=(x_1, \\ldots, x_n)$, the gradient of $f$ is equal to $(\\frac{\\partial f}{\\partial x_1}, \\ldots, \\frac{\\partial f}{\\partial x_n})$.\n",
        "\n",
        "### Gradient Descent\n",
        "Gradient Descent is a technique used to find a local minimum of a function. The input is initialized to arbitrary values. Basically, gradient descent repeatedly moves the input a small amount, called the learning rate, in the direction of the gradient.\n",
        "\n",
        "### Loss Function\n",
        "The loss function of a model is how close to the correct answers a model is on a set of inputs."
      ]
    },
    {
      "cell_type": "markdown",
      "metadata": {
        "id": "j3Y8eNlxXEIU",
        "colab_type": "text"
      },
      "source": [
        "# 3. Building a Model"
      ]
    },
    {
      "cell_type": "markdown",
      "metadata": {
        "id": "TjZpjSklc8Mz",
        "colab_type": "text"
      },
      "source": [
        "A convnet consists of two parts, the convolutional base and the classifier."
      ]
    },
    {
      "cell_type": "markdown",
      "metadata": {
        "id": "PgwgKJ0qyvzs",
        "colab_type": "text"
      },
      "source": [
        "### Convolutional Base\n",
        "The conv base consists of mutiple groups of convolutional filters and max pooling layers. The first convolution layer describes specific details, such as edges of a picture, while later convolutional layers describe more abstract concepts, such as an ear or an eye.\n",
        "\n",
        "Convolutional bases can generally be reused for different projects, or slightly modified between them."
      ]
    },
    {
      "cell_type": "markdown",
      "metadata": {
        "id": "CNGsPfYN3ibw",
        "colab_type": "text"
      },
      "source": [
        "An example of buiilding a base from scratch is as follows:"
      ]
    },
    {
      "cell_type": "code",
      "metadata": {
        "id": "o_P6UhMQyptK",
        "colab_type": "code",
        "colab": {
          "base_uri": "https://localhost:8080/",
          "height": 454
        },
        "outputId": "6c7d03ea-1081-4614-9fb5-983a281efcd2"
      },
      "source": [
        "from keras import layers\n",
        "from keras import models\n",
        "\n",
        "model = models.Sequential()\n",
        "# conv layers\n",
        "# 1\n",
        "model.add(layers.Conv2D(32, (3, 3), activation='relu', input_shape=(150, 150, 3)))\n",
        "model.add(layers.MaxPooling2D(2, 2))\n",
        "# 2\n",
        "model.add(layers.Conv2D(64, (3, 3), activation='relu'))\n",
        "model.add(layers.MaxPooling2D(2, 2))\n",
        "# 3\n",
        "model.add(layers.Conv2D(128, (3, 3), activation='relu'))\n",
        "model.add(layers.MaxPooling2D(2, 2))\n",
        "# 4\n",
        "model.add(layers.Conv2D(128, (3, 3), activation='relu'))\n",
        "model.add(layers.MaxPooling2D(2, 2))\n",
        "\n",
        "model.summary()"
      ],
      "execution_count": 4,
      "outputs": [
        {
          "output_type": "stream",
          "text": [
            "Model: \"sequential_2\"\n",
            "_________________________________________________________________\n",
            "Layer (type)                 Output Shape              Param #   \n",
            "=================================================================\n",
            "conv2d_5 (Conv2D)            (None, 148, 148, 32)      896       \n",
            "_________________________________________________________________\n",
            "max_pooling2d_5 (MaxPooling2 (None, 74, 74, 32)        0         \n",
            "_________________________________________________________________\n",
            "conv2d_6 (Conv2D)            (None, 72, 72, 64)        18496     \n",
            "_________________________________________________________________\n",
            "max_pooling2d_6 (MaxPooling2 (None, 36, 36, 64)        0         \n",
            "_________________________________________________________________\n",
            "conv2d_7 (Conv2D)            (None, 34, 34, 128)       73856     \n",
            "_________________________________________________________________\n",
            "max_pooling2d_7 (MaxPooling2 (None, 17, 17, 128)       0         \n",
            "_________________________________________________________________\n",
            "conv2d_8 (Conv2D)            (None, 15, 15, 128)       147584    \n",
            "_________________________________________________________________\n",
            "max_pooling2d_8 (MaxPooling2 (None, 7, 7, 128)         0         \n",
            "=================================================================\n",
            "Total params: 240,832\n",
            "Trainable params: 240,832\n",
            "Non-trainable params: 0\n",
            "_________________________________________________________________\n"
          ],
          "name": "stdout"
        }
      ]
    },
    {
      "cell_type": "markdown",
      "metadata": {
        "id": "1UCgD3XN3msN",
        "colab_type": "text"
      },
      "source": [
        "Alternatively, you could use a pre-trained model, such as VGG-16:"
      ]
    },
    {
      "cell_type": "code",
      "metadata": {
        "id": "Yl4lFPG03rH-",
        "colab_type": "code",
        "colab": {
          "base_uri": "https://localhost:8080/",
          "height": 891
        },
        "outputId": "301d9cd5-ef14-41c3-e082-a7011ee6a077"
      },
      "source": [
        "%tensorflow_version 2.x\n",
        "\n",
        "import tensorflow as tf\n",
        "from tensorflow.keras.applications import VGG16\n",
        "\n",
        "conv_base = VGG16(\n",
        "    weights='imagenet', \n",
        "    include_top=False, \n",
        "    input_shape=(150, 150, 3))\n",
        "conv_base.summary()"
      ],
      "execution_count": 3,
      "outputs": [
        {
          "output_type": "stream",
          "text": [
            "Downloading data from https://storage.googleapis.com/tensorflow/keras-applications/vgg16/vgg16_weights_tf_dim_ordering_tf_kernels_notop.h5\n",
            "58892288/58889256 [==============================] - 0s 0us/step\n",
            "Model: \"vgg16\"\n",
            "_________________________________________________________________\n",
            "Layer (type)                 Output Shape              Param #   \n",
            "=================================================================\n",
            "input_2 (InputLayer)         [(None, 150, 150, 3)]     0         \n",
            "_________________________________________________________________\n",
            "block1_conv1 (Conv2D)        (None, 150, 150, 64)      1792      \n",
            "_________________________________________________________________\n",
            "block1_conv2 (Conv2D)        (None, 150, 150, 64)      36928     \n",
            "_________________________________________________________________\n",
            "block1_pool (MaxPooling2D)   (None, 75, 75, 64)        0         \n",
            "_________________________________________________________________\n",
            "block2_conv1 (Conv2D)        (None, 75, 75, 128)       73856     \n",
            "_________________________________________________________________\n",
            "block2_conv2 (Conv2D)        (None, 75, 75, 128)       147584    \n",
            "_________________________________________________________________\n",
            "block2_pool (MaxPooling2D)   (None, 37, 37, 128)       0         \n",
            "_________________________________________________________________\n",
            "block3_conv1 (Conv2D)        (None, 37, 37, 256)       295168    \n",
            "_________________________________________________________________\n",
            "block3_conv2 (Conv2D)        (None, 37, 37, 256)       590080    \n",
            "_________________________________________________________________\n",
            "block3_conv3 (Conv2D)        (None, 37, 37, 256)       590080    \n",
            "_________________________________________________________________\n",
            "block3_pool (MaxPooling2D)   (None, 18, 18, 256)       0         \n",
            "_________________________________________________________________\n",
            "block4_conv1 (Conv2D)        (None, 18, 18, 512)       1180160   \n",
            "_________________________________________________________________\n",
            "block4_conv2 (Conv2D)        (None, 18, 18, 512)       2359808   \n",
            "_________________________________________________________________\n",
            "block4_conv3 (Conv2D)        (None, 18, 18, 512)       2359808   \n",
            "_________________________________________________________________\n",
            "block4_pool (MaxPooling2D)   (None, 9, 9, 512)         0         \n",
            "_________________________________________________________________\n",
            "block5_conv1 (Conv2D)        (None, 9, 9, 512)         2359808   \n",
            "_________________________________________________________________\n",
            "block5_conv2 (Conv2D)        (None, 9, 9, 512)         2359808   \n",
            "_________________________________________________________________\n",
            "block5_conv3 (Conv2D)        (None, 9, 9, 512)         2359808   \n",
            "_________________________________________________________________\n",
            "block5_pool (MaxPooling2D)   (None, 4, 4, 512)         0         \n",
            "=================================================================\n",
            "Total params: 14,714,688\n",
            "Trainable params: 14,714,688\n",
            "Non-trainable params: 0\n",
            "_________________________________________________________________\n"
          ],
          "name": "stdout"
        }
      ]
    },
    {
      "cell_type": "markdown",
      "metadata": {
        "id": "d4GVHh96EDF1",
        "colab_type": "text"
      },
      "source": [
        "When using a pre-trained base, it's also important to make sure that the base is untrainable, so that the weights do not get messed up."
      ]
    },
    {
      "cell_type": "code",
      "metadata": {
        "id": "lCkpCu_6EMNb",
        "colab_type": "code",
        "colab": {}
      },
      "source": [
        "conv_base.trainable = False"
      ],
      "execution_count": 0,
      "outputs": []
    },
    {
      "cell_type": "markdown",
      "metadata": {
        "id": "1GtlD34Kyt9q",
        "colab_type": "text"
      },
      "source": [
        "### Classifier\n",
        "The classifier consists of a series of dense layers. It takes the output from the convolutional base and turns it into the probability of some set of classes."
      ]
    },
    {
      "cell_type": "markdown",
      "metadata": {
        "id": "Cjh4xpKl6-zS",
        "colab_type": "text"
      },
      "source": [
        "# 4. Compiling a Model"
      ]
    },
    {
      "cell_type": "markdown",
      "metadata": {
        "id": "_42PNJZs9TkT",
        "colab_type": "text"
      },
      "source": [
        "### Optimizer\n",
        "Optimizers are ways of updating a models parameters in response to the loss function. Gradient descent is an example of an optimizer in that it changes the weights in the direction of the gradient of the loss function.\n",
        "\n",
        "An example of compiling a model with RMSprop is as follows:"
      ]
    },
    {
      "cell_type": "code",
      "metadata": {
        "id": "_1C47q6pFvWZ",
        "colab_type": "code",
        "colab": {}
      },
      "source": [
        "model.compile(\n",
        "    loss='binary_crossentropy', \n",
        "    optimizer=optimizers.RMSprop(lr=2e-5), \n",
        "    metrics=['acc'])"
      ],
      "execution_count": 0,
      "outputs": []
    },
    {
      "cell_type": "markdown",
      "metadata": {
        "id": "Mf-XnQFiF0u5",
        "colab_type": "text"
      },
      "source": [
        "### Learning Rate\n",
        "The learning rate is a parameter passed into an optimizer that controls how fast the model learns. If the model learns too fast, it could overshoot the minimum and end up with a suboptimal result."
      ]
    },
    {
      "cell_type": "markdown",
      "metadata": {
        "id": "X7GKChKiVurQ",
        "colab_type": "text"
      },
      "source": [
        "# 5. Training a Model"
      ]
    },
    {
      "cell_type": "markdown",
      "metadata": {
        "id": "OSUsFd_UVwnU",
        "colab_type": "text"
      },
      "source": [
        "Two problems that can occur during training are overfitting and underfitting.\n",
        "\n",
        "### Overfitting\n",
        "Overfitting is when your model is too complex for the problem you are working on. The model would be very accurate on the training data, but not very accurate on the validation data. One way to deal with overfitting is to change the training data a bit, such as rotating or scaling images. Another way is to add a dropout layer, which removes a few nodes in the network each time it trains. Also, making sure to get redundant input features is important.\n",
        "\n",
        "### Underfitting\n",
        "Underfitting is when the model is not complex enough to fit the data. The model either doesn't have very good accuracy on the train data or it takes a long time to train. The way to fix this is to just increase the complexity of the model."
      ]
    },
    {
      "cell_type": "markdown",
      "metadata": {
        "id": "F7tohSWxloWf",
        "colab_type": "text"
      },
      "source": [
        "# 6. Finetuning a Model"
      ]
    },
    {
      "cell_type": "markdown",
      "metadata": {
        "id": "FWTEu0GXlqwE",
        "colab_type": "text"
      },
      "source": [
        "Instead of creating a conv base from scratch, it might be worthwile reusing a pre-trained base, such as VGG-16. Since these are trained on a large database of images, they are very generalized. Then, you can attach your own classifier to it. The conv base should be locked from training, or else it might change dramatically during the initial training.\n",
        "\n",
        "After the initial training, when the classifier is more adapted to the base, a few layers near the bottom of the base can be unfrozen to finetune them. This generally leads to better results than just training the classifier, but can also lead to more overfitting."
      ]
    },
    {
      "cell_type": "code",
      "metadata": {
        "id": "iC61vai2EspE",
        "colab_type": "code",
        "colab": {}
      },
      "source": [
        "conv_base.trainable = True\n",
        "\n",
        "set_trainable = False\n",
        "for layer in conv_base.layers:\n",
        "  if layer.name == 'block5_conv1':\n",
        "    set_trainable = True\n",
        "  if set_trainable:\n",
        "    layer.trainable = True\n",
        "  else:\n",
        "    layer.trainable = False"
      ],
      "execution_count": 0,
      "outputs": []
    },
    {
      "cell_type": "markdown",
      "metadata": {
        "id": "NrYZEyBQExAK",
        "colab_type": "text"
      },
      "source": [
        "What this code does is it sets the bottom few layers of the conv base to be trainable."
      ]
    }
  ]
}