{
  "nbformat": 4,
  "nbformat_minor": 0,
  "metadata": {
    "colab": {
      "name": "HW2_Problem1",
      "provenance": [],
      "authorship_tag": "ABX9TyO3MJPQmH+1Jf47/6jAsdEO",
      "include_colab_link": true
    },
    "kernelspec": {
      "name": "python3",
      "display_name": "Python 3"
    }
  },
  "cells": [
    {
      "cell_type": "markdown",
      "metadata": {
        "id": "view-in-github",
        "colab_type": "text"
      },
      "source": [
        "<a href=\"https://colab.research.google.com/github/Xylenox/CAP4630/blob/master/homework2/HW2_Problem1.ipynb\" target=\"_parent\"><img src=\"https://colab.research.google.com/assets/colab-badge.svg\" alt=\"Open In Colab\"/></a>"
      ]
    },
    {
      "cell_type": "markdown",
      "metadata": {
        "id": "ntgjtA-Qegbx",
        "colab_type": "text"
      },
      "source": [
        "$f_1(x, y) = x^2+y^2$\n",
        "\n",
        "$f_2(x, y) = -(x^2+y^2)$\n",
        "\n",
        "$f_3(x, y) = x^3+y^3$\n",
        "\n",
        "$p_1 = (0, 0)$\n",
        "\n",
        "$p_2 = (0, 0)$\n",
        "\n",
        "$p_3 = (0, 0)$"
      ]
    }
  ]
}