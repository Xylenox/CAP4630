{
  "nbformat": 4,
  "nbformat_minor": 0,
  "metadata": {
    "colab": {
      "name": "HW3",
      "provenance": [],
      "collapsed_sections": [],
      "authorship_tag": "ABX9TyPC0AUY4FPvodrNDEJOXZEe",
      "include_colab_link": true
    },
    "kernelspec": {
      "name": "python3",
      "display_name": "Python 3"
    }
  },
  "cells": [
    {
      "cell_type": "markdown",
      "metadata": {
        "id": "view-in-github",
        "colab_type": "text"
      },
      "source": [
        "<a href=\"https://colab.research.google.com/github/Xylenox/CAP4630/blob/master/HW_3/HW3.ipynb\" target=\"_parent\"><img src=\"https://colab.research.google.com/assets/colab-badge.svg\" alt=\"Open In Colab\"/></a>"
      ]
    },
    {
      "cell_type": "code",
      "metadata": {
        "id": "8QsgxNBVZ60w",
        "colab_type": "code",
        "colab": {}
      },
      "source": [
        "import numpy as np\n",
        "\n",
        "import matplotlib as mpl\n",
        "import matplotlib.pyplot as plt"
      ],
      "execution_count": 0,
      "outputs": []
    },
    {
      "cell_type": "markdown",
      "metadata": {
        "id": "DUNatgNvsn_e",
        "colab_type": "text"
      },
      "source": [
        "# functions for graphing heatmaps"
      ]
    },
    {
      "cell_type": "code",
      "metadata": {
        "id": "dyfrtR-F_4Qp",
        "colab_type": "code",
        "outputId": "5bc000f9-0e6a-4fd0-ae81-c2763c2928c9",
        "colab": {
          "base_uri": "https://localhost:8080/",
          "height": 35
        }
      },
      "source": [
        "def sigmoid(z):\n",
        "  return 1/(1+np.exp(-z))\n",
        "  \n",
        "def f(x, y, w1, w2, b):\n",
        "  res = np.zeros(x.shape)\n",
        "  for i in range(0, x.shape[0]):\n",
        "    for j in range(0, x.shape[1]):\n",
        "      res[i][j] = sigmoid(x[i][j]*w1 + y[i][j]*w2 + b)\n",
        "  return res\n",
        "\n",
        "print(sigmoid(np.array([0, -1, 1])))"
      ],
      "execution_count": 0,
      "outputs": [
        {
          "output_type": "stream",
          "text": [
            "[0.5        0.26894142 0.73105858]\n"
          ],
          "name": "stdout"
        }
      ]
    },
    {
      "cell_type": "markdown",
      "metadata": {
        "id": "h_03GgDgszlm",
        "colab_type": "text"
      },
      "source": [
        "# Random data generation (Problem 1)\n"
      ]
    },
    {
      "cell_type": "code",
      "metadata": {
        "id": "gy7qfKU1ZUFf",
        "colab_type": "code",
        "colab": {}
      },
      "source": [
        "def get_random_data(w, b, mu, sigma, m):\n",
        "  data = np.zeros((m, 2))\n",
        "  labels = np.zeros((m, 1))\n",
        "\n",
        "  for i in range(0, m):\n",
        "    rand = np.random.random()\n",
        "    c = 0\n",
        "    if rand > 0.5:\n",
        "      c = 0\n",
        "    else:\n",
        "      c = 1\n",
        "    x = np.random.random()\n",
        "    n = np.random.normal(mu, sigma)\n",
        "    y = w*x + b + ((-1)**c) * n\n",
        "    data[i][0] = x\n",
        "    data[i][1] = y\n",
        "    labels[i] = c\n",
        "  return (data, labels)\n",
        "\n",
        "def display_random_data(data, labels, w, b, m, ax):\n",
        "  for i in range(0, m):\n",
        "    if labels[i] == 0:\n",
        "      ax.plot(data[i][0], data[i][1], 'r.')\n",
        "    else:\n",
        "      ax.plot(data[i][0], data[i][1], 'b.')"
      ],
      "execution_count": 0,
      "outputs": []
    },
    {
      "cell_type": "markdown",
      "metadata": {
        "id": "yVQkUUjQs25C",
        "colab_type": "text"
      },
      "source": [
        "# Generating random data"
      ]
    },
    {
      "cell_type": "code",
      "metadata": {
        "id": "ee-BKWTtaNvs",
        "colab_type": "code",
        "outputId": "cbea8345-b0c8-4bb7-ac95-2805153178a1",
        "colab": {
          "base_uri": "https://localhost:8080/",
          "height": 265
        }
      },
      "source": [
        "w = 1\n",
        "b = 2\n",
        "mu = 1.5\n",
        "sigma = 0.5\n",
        "m = 200\n",
        "test = int(m*0.8)\n",
        "\n",
        "data, labels = get_random_data(w, b, mu, sigma, m)\n",
        "\n",
        "data_train = data[:test]\n",
        "labels_train = labels[:test]\n",
        "data_test = data[test:]\n",
        "labels_test = labels[test:]\n",
        "display_random_data(data, labels, w, b, m, plt)"
      ],
      "execution_count": 0,
      "outputs": [
        {
          "output_type": "display_data",
          "data": {
            "image/png": "[encoded data removed]",
            "text/plain": [
              "<Figure size 432x288 with 1 Axes>"
            ]
          },
          "metadata": {
            "tags": []
          }
        }
      ]
    },
    {
      "cell_type": "markdown",
      "metadata": {
        "id": "ToVxwf8oN5xh",
        "colab_type": "text"
      },
      "source": [
        "# Logistic Regression with Keras (Problem 2)"
      ]
    },
    {
      "cell_type": "code",
      "metadata": {
        "id": "1kf0dBIeN94-",
        "colab_type": "code",
        "outputId": "64c69472-7bec-44f1-9437-b20095b072cd",
        "colab": {
          "base_uri": "https://localhost:8080/",
          "height": 35
        }
      },
      "source": [
        "%tensorflow_version 2.x\n",
        "from tensorflow.keras import models\n",
        "from tensorflow.keras import layers\n",
        "import tensorflow.keras as keras\n",
        "import tensorflow as tf"
      ],
      "execution_count": 0,
      "outputs": [
        {
          "output_type": "stream",
          "text": [
            "TensorFlow 2.x selected.\n"
          ],
          "name": "stdout"
        }
      ]
    },
    {
      "cell_type": "markdown",
      "metadata": {
        "id": "lJEEkaGXs5pN",
        "colab_type": "text"
      },
      "source": [
        "# Build and compile network"
      ]
    },
    {
      "cell_type": "code",
      "metadata": {
        "id": "y8MYnna4OAHR",
        "colab_type": "code",
        "colab": {}
      },
      "source": [
        "network = models.Sequential()\n",
        "layer = layers.Dense(1, activation='sigmoid', input_shape=(2,))\n",
        "network.add(layer)\n",
        "network.compile(optimizer='sgd', loss='binary_crossentropy', metrics=['accuracy'])"
      ],
      "execution_count": 0,
      "outputs": []
    },
    {
      "cell_type": "markdown",
      "metadata": {
        "id": "3RQglhmBs7EA",
        "colab_type": "text"
      },
      "source": [
        "# Train Network"
      ]
    },
    {
      "cell_type": "code",
      "metadata": {
        "id": "H1P-E01BO7Tr",
        "colab_type": "code",
        "outputId": "53ffe3fe-59eb-4ff2-92ad-582684d35af0",
        "colab": {
          "base_uri": "https://localhost:8080/",
          "height": 1000
        }
      },
      "source": [
        "network.fit(data_train, labels_train, epochs=50, batch_size=5)"
      ],
      "execution_count": 0,
      "outputs": [
        {
          "output_type": "stream",
          "text": [
            "Train on 160 samples\n",
            "Epoch 1/50\n",
            "160/160 [==============================] - 0s 1ms/sample - loss: 0.6558 - accuracy: 0.4875\n",
            "Epoch 2/50\n",
            "160/160 [==============================] - 0s 251us/sample - loss: 0.6297 - accuracy: 0.4938\n",
            "Epoch 3/50\n",
            "160/160 [==============================] - 0s 249us/sample - loss: 0.6087 - accuracy: 0.5188\n",
            "Epoch 4/50\n",
            "160/160 [==============================] - 0s 251us/sample - loss: 0.5894 - accuracy: 0.5562\n",
            "Epoch 5/50\n",
            "160/160 [==============================] - 0s 243us/sample - loss: 0.5719 - accuracy: 0.5875\n",
            "Epoch 6/50\n",
            "160/160 [==============================] - 0s 232us/sample - loss: 0.5552 - accuracy: 0.6187\n",
            "Epoch 7/50\n",
            "160/160 [==============================] - 0s 232us/sample - loss: 0.5392 - accuracy: 0.6375\n",
            "Epoch 8/50\n",
            "160/160 [==============================] - 0s 302us/sample - loss: 0.5240 - accuracy: 0.6625\n",
            "Epoch 9/50\n",
            "160/160 [==============================] - 0s 245us/sample - loss: 0.5094 - accuracy: 0.6875\n",
            "Epoch 10/50\n",
            "160/160 [==============================] - 0s 244us/sample - loss: 0.4959 - accuracy: 0.7063\n",
            "Epoch 11/50\n",
            "160/160 [==============================] - 0s 226us/sample - loss: 0.4829 - accuracy: 0.7250\n",
            "Epoch 12/50\n",
            "160/160 [==============================] - 0s 227us/sample - loss: 0.4704 - accuracy: 0.7563\n",
            "Epoch 13/50\n",
            "160/160 [==============================] - 0s 238us/sample - loss: 0.4583 - accuracy: 0.7750\n",
            "Epoch 14/50\n",
            "160/160 [==============================] - 0s 234us/sample - loss: 0.4469 - accuracy: 0.7937\n",
            "Epoch 15/50\n",
            "160/160 [==============================] - 0s 226us/sample - loss: 0.4359 - accuracy: 0.8125\n",
            "Epoch 16/50\n",
            "160/160 [==============================] - 0s 235us/sample - loss: 0.4254 - accuracy: 0.8125\n",
            "Epoch 17/50\n",
            "160/160 [==============================] - 0s 230us/sample - loss: 0.4154 - accuracy: 0.8375\n",
            "Epoch 18/50\n",
            "160/160 [==============================] - 0s 277us/sample - loss: 0.4059 - accuracy: 0.8438\n",
            "Epoch 19/50\n",
            "160/160 [==============================] - 0s 250us/sample - loss: 0.3968 - accuracy: 0.8625\n",
            "Epoch 20/50\n",
            "160/160 [==============================] - 0s 246us/sample - loss: 0.3880 - accuracy: 0.8813\n",
            "Epoch 21/50\n",
            "160/160 [==============================] - 0s 224us/sample - loss: 0.3796 - accuracy: 0.8938\n",
            "Epoch 22/50\n",
            "160/160 [==============================] - 0s 256us/sample - loss: 0.3716 - accuracy: 0.9000\n",
            "Epoch 23/50\n",
            "160/160 [==============================] - 0s 266us/sample - loss: 0.3639 - accuracy: 0.9062\n",
            "Epoch 24/50\n",
            "160/160 [==============================] - 0s 232us/sample - loss: 0.3564 - accuracy: 0.9187\n",
            "Epoch 25/50\n",
            "160/160 [==============================] - 0s 266us/sample - loss: 0.3493 - accuracy: 0.9187\n",
            "Epoch 26/50\n",
            "160/160 [==============================] - 0s 224us/sample - loss: 0.3424 - accuracy: 0.9312\n",
            "Epoch 27/50\n",
            "160/160 [==============================] - 0s 270us/sample - loss: 0.3358 - accuracy: 0.9500\n",
            "Epoch 28/50\n",
            "160/160 [==============================] - 0s 255us/sample - loss: 0.3295 - accuracy: 0.9375\n",
            "Epoch 29/50\n",
            "160/160 [==============================] - 0s 282us/sample - loss: 0.3235 - accuracy: 0.9438\n",
            "Epoch 30/50\n",
            "160/160 [==============================] - 0s 232us/sample - loss: 0.3176 - accuracy: 0.9500\n",
            "Epoch 31/50\n",
            "160/160 [==============================] - 0s 216us/sample - loss: 0.3118 - accuracy: 0.9500\n",
            "Epoch 32/50\n",
            "160/160 [==============================] - 0s 229us/sample - loss: 0.3063 - accuracy: 0.9500\n",
            "Epoch 33/50\n",
            "160/160 [==============================] - 0s 238us/sample - loss: 0.3013 - accuracy: 0.9563\n",
            "Epoch 34/50\n",
            "160/160 [==============================] - 0s 269us/sample - loss: 0.2961 - accuracy: 0.9500\n",
            "Epoch 35/50\n",
            "160/160 [==============================] - 0s 254us/sample - loss: 0.2911 - accuracy: 0.9500\n",
            "Epoch 36/50\n",
            "160/160 [==============================] - 0s 253us/sample - loss: 0.2863 - accuracy: 0.9625\n",
            "Epoch 37/50\n",
            "160/160 [==============================] - 0s 234us/sample - loss: 0.2818 - accuracy: 0.9750\n",
            "Epoch 38/50\n",
            "160/160 [==============================] - 0s 236us/sample - loss: 0.2773 - accuracy: 0.9688\n",
            "Epoch 39/50\n",
            "160/160 [==============================] - 0s 248us/sample - loss: 0.2730 - accuracy: 0.9750\n",
            "Epoch 40/50\n",
            "160/160 [==============================] - 0s 272us/sample - loss: 0.2690 - accuracy: 0.9750\n",
            "Epoch 41/50\n",
            "160/160 [==============================] - 0s 224us/sample - loss: 0.2650 - accuracy: 0.9812\n",
            "Epoch 42/50\n",
            "160/160 [==============================] - 0s 235us/sample - loss: 0.2610 - accuracy: 0.9812\n",
            "Epoch 43/50\n",
            "160/160 [==============================] - 0s 221us/sample - loss: 0.2574 - accuracy: 0.9812\n",
            "Epoch 44/50\n",
            "160/160 [==============================] - 0s 250us/sample - loss: 0.2535 - accuracy: 0.9812\n",
            "Epoch 45/50\n",
            "160/160 [==============================] - 0s 253us/sample - loss: 0.2500 - accuracy: 0.9812\n",
            "Epoch 46/50\n",
            "160/160 [==============================] - 0s 235us/sample - loss: 0.2466 - accuracy: 0.9812\n",
            "Epoch 47/50\n",
            "160/160 [==============================] - 0s 221us/sample - loss: 0.2433 - accuracy: 0.9812\n",
            "Epoch 48/50\n",
            "160/160 [==============================] - 0s 242us/sample - loss: 0.2402 - accuracy: 0.9812\n",
            "Epoch 49/50\n",
            "160/160 [==============================] - 0s 242us/sample - loss: 0.2369 - accuracy: 0.9812\n",
            "Epoch 50/50\n",
            "160/160 [==============================] - 0s 240us/sample - loss: 0.2338 - accuracy: 0.9812\n"
          ],
          "name": "stdout"
        },
        {
          "output_type": "execute_result",
          "data": {
            "text/plain": [
              "<tensorflow.python.keras.callbacks.History at 0x7f456b859c18>"
            ]
          },
          "metadata": {
            "tags": []
          },
          "execution_count": 14
        }
      ]
    },
    {
      "cell_type": "code",
      "metadata": {
        "id": "KMYrFhjlP6sc",
        "colab_type": "code",
        "outputId": "afcf3e74-ad2d-4a52-8345-691567fce2a8",
        "colab": {
          "base_uri": "https://localhost:8080/",
          "height": 35
        }
      },
      "source": [
        "test_loss, test_acc = network.evaluate(data_test, labels_test)"
      ],
      "execution_count": 0,
      "outputs": [
        {
          "output_type": "stream",
          "text": [
            "40/40 [==============================] - 0s 2ms/sample - loss: 0.2334 - accuracy: 1.0000\n"
          ],
          "name": "stdout"
        }
      ]
    },
    {
      "cell_type": "code",
      "metadata": {
        "id": "ybbPJfF2da-4",
        "colab_type": "code",
        "outputId": "6fc23a9e-50c8-4261-e6da-b7b3bd0daa1d",
        "colab": {
          "base_uri": "https://localhost:8080/",
          "height": 90
        }
      },
      "source": [
        "print(layer.weights)\n",
        "print(layer.bias)"
      ],
      "execution_count": 0,
      "outputs": [
        {
          "output_type": "stream",
          "text": [
            "[<tf.Variable 'dense_3/kernel:0' shape=(2, 1) dtype=float32, numpy=\n",
            "array([[ 0.3903009],\n",
            "       [-1.0774552]], dtype=float32)>, <tf.Variable 'dense_3/bias:0' shape=(1,) dtype=float32, numpy=array([2.0651717], dtype=float32)>]\n",
            "<tf.Variable 'dense_3/bias:0' shape=(1,) dtype=float32, numpy=array([2.0651717], dtype=float32)>\n"
          ],
          "name": "stdout"
        }
      ]
    },
    {
      "cell_type": "markdown",
      "metadata": {
        "id": "48cn7eZ1TCG5",
        "colab_type": "text"
      },
      "source": [
        "# Formula for extracting seperating line given weights and bias\n",
        "\n",
        "$w_1*x + w_2*y + b = 0$\n",
        "\n",
        "$w_2*y = -w_1*x - b$\n",
        "\n",
        "$y = -w_1*x/w_2 - b/w_2$"
      ]
    },
    {
      "cell_type": "markdown",
      "metadata": {
        "id": "xx1DPwuCtJSv",
        "colab_type": "text"
      },
      "source": [
        "# Plotting network output and heatmap"
      ]
    },
    {
      "cell_type": "code",
      "metadata": {
        "id": "6d59YkXxTfGU",
        "colab_type": "code",
        "outputId": "e039bd71-afe4-43d8-a4a5-dcfaaea8dd0d",
        "colab": {
          "base_uri": "https://localhost:8080/",
          "height": 320
        }
      },
      "source": [
        "test_b = -layer.bias[0]/layer.weights[0][1][0]\n",
        "test_w = -layer.weights[0][0][0]/layer.weights[0][1][0]\n",
        "# display_random_data(data, labels, w, b, m)\n",
        "print(test_b)\n",
        "print(test_w)\n",
        "ax = plt.subplot(2, 1, 1)\n",
        "plt.plot(np.array([0, 1]), np.array([test_b, test_b+test_w]))\n",
        "display_random_data(data, labels, w, b, m, ax)\n",
        "\n",
        "\n",
        "x = np.linspace(0, 1, 20)\n",
        "y = np.linspace(-1, 5, 20)\n",
        "\n",
        "X, Y = np.meshgrid(x, y)\n",
        "Z = f(X, Y, layer.weights[0][0][0], layer.weights[0][1][0], layer.bias[0])\n",
        "\n",
        "ax = plt.subplot(2, 1, 2)\n",
        "plt.contourf(X, Y, Z, 20, cmap='RdGy')\n",
        "plt.colorbar()"
      ],
      "execution_count": 0,
      "outputs": [
        {
          "output_type": "stream",
          "text": [
            "tf.Tensor(1.9167124, shape=(), dtype=float32)\n",
            "tf.Tensor(0.3622433, shape=(), dtype=float32)\n"
          ],
          "name": "stdout"
        },
        {
          "output_type": "execute_result",
          "data": {
            "text/plain": [
              "<matplotlib.colorbar.Colorbar at 0x7f456f8979e8>"
            ]
          },
          "metadata": {
            "tags": []
          },
          "execution_count": 17
        },
        {
          "output_type": "display_data",
          "data": {
            "image/png": "[encoded data removed]",
            "text/plain": [
              "<Figure size 432x288 with 3 Axes>"
            ]
          },
          "metadata": {
            "tags": []
          }
        }
      ]
    },
    {
      "cell_type": "markdown",
      "metadata": {
        "id": "0cL02Pi6pY8S",
        "colab_type": "text"
      },
      "source": [
        "# Manual Logistic Regression (Problem 3)"
      ]
    },
    {
      "cell_type": "markdown",
      "metadata": {
        "id": "oSP9xDx5tRgF",
        "colab_type": "text"
      },
      "source": [
        "# Initialize weights"
      ]
    },
    {
      "cell_type": "code",
      "metadata": {
        "id": "Xfhvf-ZPrj1S",
        "colab_type": "code",
        "colab": {}
      },
      "source": [
        "ws = np.zeros(3)\n",
        "lr = 0.01\n",
        "epochs = 20\n",
        "batch_size = 20"
      ],
      "execution_count": 0,
      "outputs": []
    },
    {
      "cell_type": "markdown",
      "metadata": {
        "id": "mchJZst1tN1c",
        "colab_type": "text"
      },
      "source": [
        "# Run epochs"
      ]
    },
    {
      "cell_type": "code",
      "metadata": {
        "id": "5RXBtQu1QUxg",
        "colab_type": "code",
        "outputId": "6fd715ea-c997-49d7-fb28-b396818c1566",
        "colab": {
          "base_uri": "https://localhost:8080/",
          "height": 384
        }
      },
      "source": [
        "datab = np.hstack((data_train, np.ones((data_train.shape[0], 1))))\n",
        "for epoch in range(0, epochs):\n",
        "  shuffle = np.random.permutation(datab.shape[0])\n",
        "  sample_data = datab[shuffle]\n",
        "  sample_labels = labels_train[shuffle]\n",
        "  for i in range(0, m, batch_size):\n",
        "    datas = sample_data[i:i+batch_size]\n",
        "    label = sample_labels[i:i+batch_size]\n",
        "    ws = (ws - 1 / test * np.sum((np.array([sigmoid(datas.dot(ws))]).T - label)*datas, axis=0))\n",
        "  print(ws)"
      ],
      "execution_count": 0,
      "outputs": [
        {
          "output_type": "stream",
          "text": [
            "[ 0.04239962 -0.36649227  0.11149659]\n",
            "[ 0.12499539 -0.43983006  0.29861895]\n",
            "[ 0.19969966 -0.51767723  0.46839555]\n",
            "[ 0.27437261 -0.56037603  0.6364599 ]\n",
            "[ 0.33853382 -0.63297247  0.78203037]\n",
            "[ 0.40159909 -0.68773695  0.92231478]\n",
            "[ 0.4617569  -0.73252081  1.05624468]\n",
            "[ 0.51814595 -0.77442163  1.18173115]\n",
            "[ 0.56808938 -0.83232316  1.29336608]\n",
            "[ 0.61598094 -0.88483467  1.39952564]\n",
            "[ 0.66270416 -0.92764616  1.50219477]\n",
            "[ 0.70766564 -0.96376573  1.60101224]\n",
            "[ 0.74878169 -1.00860502  1.69153113]\n",
            "[ 0.79034476 -1.0392031   1.78191357]\n",
            "[ 0.82832539 -1.07791935  1.86486052]\n",
            "[ 0.86616871 -1.10801952  1.94658122]\n",
            "[ 0.90082949 -1.14606829  2.02155742]\n",
            "[ 0.93547175 -1.175272    2.09611538]\n",
            "[ 0.96723019 -1.2120861   2.16462208]\n",
            "[ 0.99891563 -1.24187451  2.23279578]\n"
          ],
          "name": "stdout"
        }
      ]
    },
    {
      "cell_type": "markdown",
      "metadata": {
        "id": "zxk88ngTtWbg",
        "colab_type": "text"
      },
      "source": [
        "# Plot predictions and heatmap"
      ]
    },
    {
      "cell_type": "code",
      "metadata": {
        "id": "XVaLLcU0bZEk",
        "colab_type": "code",
        "outputId": "81bfa73a-b286-45b1-f187-477b04fa3135",
        "colab": {
          "base_uri": "https://localhost:8080/",
          "height": 320
        }
      },
      "source": [
        "test_b = -ws[2]/ws[1]\n",
        "test_w = -ws[0]/ws[1]\n",
        "# display_random_data(data, labels, w, b, m)\n",
        "print(test_b)\n",
        "print(test_w)\n",
        "ax = plt.subplot(2, 1, 1)\n",
        "plt.plot(np.array([0, 1]), np.array([test_b, test_b+test_w]))\n",
        "display_random_data(data, labels, w, b, m, ax)\n",
        "\n",
        "\n",
        "x = np.linspace(0, 1, 20)\n",
        "y = np.linspace(-1, 5, 20)\n",
        "\n",
        "X, Y = np.meshgrid(x, y)\n",
        "Z = f(X, Y, ws[0], ws[1], ws[2])\n",
        "\n",
        "ax = plt.subplot(2, 1, 2)\n",
        "plt.contourf(X, Y, Z, 20, cmap='RdGy')\n",
        "plt.colorbar()"
      ],
      "execution_count": 0,
      "outputs": [
        {
          "output_type": "stream",
          "text": [
            "1.7979238328293285\n",
            "0.8043611653431489\n"
          ],
          "name": "stdout"
        },
        {
          "output_type": "execute_result",
          "data": {
            "text/plain": [
              "<matplotlib.colorbar.Colorbar at 0x7f4569f9fbe0>"
            ]
          },
          "metadata": {
            "tags": []
          },
          "execution_count": 20
        },
        {
          "output_type": "display_data",
          "data": {
            "image/png": "[encoded data removed]",
            "text/plain": [
              "<Figure size 432x288 with 3 Axes>"
            ]
          },
          "metadata": {
            "tags": []
          }
        }
      ]
    }
  ]
}