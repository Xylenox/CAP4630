{
  "nbformat": 4,
  "nbformat_minor": 0,
  "metadata": {
    "colab": {
      "name": "HW3 revised",
      "provenance": [],
      "collapsed_sections": [],
      "authorship_tag": "ABX9TyMeYUIHfs7ATfhkdlwMH5cf",
      "include_colab_link": true
    },
    "kernelspec": {
      "name": "python3",
      "display_name": "Python 3"
    }
  },
  "cells": [
    {
      "cell_type": "markdown",
      "metadata": {
        "id": "view-in-github",
        "colab_type": "text"
      },
      "source": [
        "<a href=\"https://colab.research.google.com/github/Xylenox/CAP4630/blob/master/HW_3/HW3_revised.ipynb\" target=\"_parent\"><img src=\"https://colab.research.google.com/assets/colab-badge.svg\" alt=\"Open In Colab\"/></a>"
      ]
    },
    {
      "cell_type": "code",
      "metadata": {
        "id": "8QsgxNBVZ60w",
        "colab_type": "code",
        "colab": {}
      },
      "source": [
        "import numpy as np\n",
        "\n",
        "import matplotlib as mpl\n",
        "import matplotlib.pyplot as plt"
      ],
      "execution_count": 0,
      "outputs": []
    },
    {
      "cell_type": "markdown",
      "metadata": {
        "id": "DUNatgNvsn_e",
        "colab_type": "text"
      },
      "source": [
        "## functions for graphing heatmaps"
      ]
    },
    {
      "cell_type": "code",
      "metadata": {
        "id": "dyfrtR-F_4Qp",
        "colab_type": "code",
        "outputId": "a7927d06-901a-4e39-d8ed-b438899d4c0a",
        "colab": {
          "base_uri": "https://localhost:8080/",
          "height": 35
        }
      },
      "source": [
        "def sigmoid(z):\n",
        "  return 1/(1+np.exp(-z))\n",
        "  \n",
        "def f(x, y, w1, w2, b):\n",
        "  res = np.zeros(x.shape)\n",
        "  for i in range(0, x.shape[0]):\n",
        "    for j in range(0, x.shape[1]):\n",
        "      res[i][j] = sigmoid(x[i][j]*w1 + y[i][j]*w2 + b)\n",
        "  return res\n",
        "\n",
        "print(sigmoid(np.array([0, -1, 1])))"
      ],
      "execution_count": 2,
      "outputs": [
        {
          "output_type": "stream",
          "text": [
            "[0.5        0.26894142 0.73105858]\n"
          ],
          "name": "stdout"
        }
      ]
    },
    {
      "cell_type": "markdown",
      "metadata": {
        "id": "h_03GgDgszlm",
        "colab_type": "text"
      },
      "source": [
        "# Random data generation (Problem 1)\n"
      ]
    },
    {
      "cell_type": "code",
      "metadata": {
        "id": "gy7qfKU1ZUFf",
        "colab_type": "code",
        "colab": {}
      },
      "source": [
        "def get_random_data(w, b, mu, sigma, m):\n",
        "  data = np.zeros((m, 2))\n",
        "  labels = np.zeros((m, 1))\n",
        "\n",
        "  for i in range(0, m):\n",
        "    rand = np.random.random()\n",
        "    c = 0\n",
        "    if rand > 0.5:\n",
        "      c = 0\n",
        "    else:\n",
        "      c = 1\n",
        "    x = np.random.random()\n",
        "    n = np.random.normal(mu, sigma)\n",
        "    y = w*x + b + ((-1)**c) * n\n",
        "    data[i][0] = x\n",
        "    data[i][1] = y\n",
        "    labels[i] = c\n",
        "  return (data, labels)\n",
        "\n",
        "def display_random_data(data, labels, w, b, m, ax):\n",
        "  for i in range(0, m):\n",
        "    if labels[i] == 0:\n",
        "      ax.plot(data[i][0], data[i][1], 'r.')\n",
        "    else:\n",
        "      ax.plot(data[i][0], data[i][1], 'b.')"
      ],
      "execution_count": 0,
      "outputs": []
    },
    {
      "cell_type": "markdown",
      "metadata": {
        "id": "yVQkUUjQs25C",
        "colab_type": "text"
      },
      "source": [
        "## Generating random data"
      ]
    },
    {
      "cell_type": "code",
      "metadata": {
        "id": "ee-BKWTtaNvs",
        "colab_type": "code",
        "outputId": "2f604b4d-e57c-418a-8c2a-a0f82bf345c9",
        "colab": {
          "base_uri": "https://localhost:8080/",
          "height": 265
        }
      },
      "source": [
        "w = 1\n",
        "b = 2\n",
        "mu = 1.5\n",
        "sigma = 0.5\n",
        "m = 200\n",
        "test = int(m*0.8)\n",
        "\n",
        "data, labels = get_random_data(w, b, mu, sigma, m)\n",
        "\n",
        "data_train = data[:test]\n",
        "labels_train = labels[:test]\n",
        "data_test = data[test:]\n",
        "labels_test = labels[test:]\n",
        "display_random_data(data, labels, w, b, m, plt)"
      ],
      "execution_count": 4,
      "outputs": [
        {
          "output_type": "display_data",
          "data": {
            "image/png": "[encoded data removed]",
            "text/plain": [
              "<Figure size 432x288 with 1 Axes>"
            ]
          },
          "metadata": {
            "tags": [],
            "needs_background": "light"
          }
        }
      ]
    },
    {
      "cell_type": "markdown",
      "metadata": {
        "id": "ToVxwf8oN5xh",
        "colab_type": "text"
      },
      "source": [
        "# Logistic Regression with Keras (Problem 2)"
      ]
    },
    {
      "cell_type": "code",
      "metadata": {
        "id": "1kf0dBIeN94-",
        "colab_type": "code",
        "colab": {}
      },
      "source": [
        "%tensorflow_version 2.x\n",
        "from tensorflow.keras import models\n",
        "from tensorflow.keras import layers\n",
        "import tensorflow.keras as keras\n",
        "import tensorflow as tf"
      ],
      "execution_count": 0,
      "outputs": []
    },
    {
      "cell_type": "markdown",
      "metadata": {
        "id": "lJEEkaGXs5pN",
        "colab_type": "text"
      },
      "source": [
        "## Build and compile network"
      ]
    },
    {
      "cell_type": "code",
      "metadata": {
        "id": "y8MYnna4OAHR",
        "colab_type": "code",
        "colab": {}
      },
      "source": [
        "network = models.Sequential()\n",
        "layer = layers.Dense(1, activation='sigmoid', input_shape=(2,))\n",
        "network.add(layer)\n",
        "network.compile(optimizer='sgd', loss='binary_crossentropy', metrics=['accuracy'])"
      ],
      "execution_count": 0,
      "outputs": []
    },
    {
      "cell_type": "markdown",
      "metadata": {
        "id": "3RQglhmBs7EA",
        "colab_type": "text"
      },
      "source": [
        "## Train Network"
      ]
    },
    {
      "cell_type": "code",
      "metadata": {
        "id": "H1P-E01BO7Tr",
        "colab_type": "code",
        "outputId": "9ea3e697-5c82-42a7-c461-93b222209852",
        "colab": {
          "base_uri": "https://localhost:8080/",
          "height": 1000
        }
      },
      "source": [
        "network.fit(data_train, labels_train, epochs=50, batch_size=5)"
      ],
      "execution_count": 8,
      "outputs": [
        {
          "output_type": "stream",
          "text": [
            "Epoch 1/50\n",
            "32/32 [==============================] - 0s 1ms/step - loss: 0.6368 - accuracy: 0.5437\n",
            "Epoch 2/50\n",
            "32/32 [==============================] - 0s 952us/step - loss: 0.5537 - accuracy: 0.5813\n",
            "Epoch 3/50\n",
            "32/32 [==============================] - 0s 953us/step - loss: 0.4878 - accuracy: 0.6187\n",
            "Epoch 4/50\n",
            "32/32 [==============================] - 0s 1ms/step - loss: 0.4374 - accuracy: 0.7000\n",
            "Epoch 5/50\n",
            "32/32 [==============================] - 0s 973us/step - loss: 0.4007 - accuracy: 0.7500\n",
            "Epoch 6/50\n",
            "32/32 [==============================] - 0s 973us/step - loss: 0.3748 - accuracy: 0.7750\n",
            "Epoch 7/50\n",
            "32/32 [==============================] - 0s 1000us/step - loss: 0.3567 - accuracy: 0.8438\n",
            "Epoch 8/50\n",
            "32/32 [==============================] - 0s 954us/step - loss: 0.3435 - accuracy: 0.8687\n",
            "Epoch 9/50\n",
            "32/32 [==============================] - 0s 978us/step - loss: 0.3335 - accuracy: 0.8938\n",
            "Epoch 10/50\n",
            "32/32 [==============================] - 0s 980us/step - loss: 0.3253 - accuracy: 0.9125\n",
            "Epoch 11/50\n",
            "32/32 [==============================] - 0s 1ms/step - loss: 0.3178 - accuracy: 0.9187\n",
            "Epoch 12/50\n",
            "32/32 [==============================] - 0s 1ms/step - loss: 0.3110 - accuracy: 0.9312\n",
            "Epoch 13/50\n",
            "32/32 [==============================] - 0s 979us/step - loss: 0.3048 - accuracy: 0.9375\n",
            "Epoch 14/50\n",
            "32/32 [==============================] - 0s 966us/step - loss: 0.2990 - accuracy: 0.9500\n",
            "Epoch 15/50\n",
            "32/32 [==============================] - 0s 959us/step - loss: 0.2932 - accuracy: 0.9563\n",
            "Epoch 16/50\n",
            "32/32 [==============================] - 0s 976us/step - loss: 0.2877 - accuracy: 0.9625\n",
            "Epoch 17/50\n",
            "32/32 [==============================] - 0s 974us/step - loss: 0.2825 - accuracy: 0.9688\n",
            "Epoch 18/50\n",
            "32/32 [==============================] - 0s 1ms/step - loss: 0.2773 - accuracy: 0.9688\n",
            "Epoch 19/50\n",
            "32/32 [==============================] - 0s 972us/step - loss: 0.2724 - accuracy: 0.9750\n",
            "Epoch 20/50\n",
            "32/32 [==============================] - 0s 982us/step - loss: 0.2678 - accuracy: 0.9750\n",
            "Epoch 21/50\n",
            "32/32 [==============================] - 0s 1ms/step - loss: 0.2632 - accuracy: 0.9812\n",
            "Epoch 22/50\n",
            "32/32 [==============================] - 0s 938us/step - loss: 0.2587 - accuracy: 0.9812\n",
            "Epoch 23/50\n",
            "32/32 [==============================] - 0s 929us/step - loss: 0.2544 - accuracy: 0.9812\n",
            "Epoch 24/50\n",
            "32/32 [==============================] - 0s 921us/step - loss: 0.2503 - accuracy: 0.9812\n",
            "Epoch 25/50\n",
            "32/32 [==============================] - 0s 919us/step - loss: 0.2463 - accuracy: 0.9812\n",
            "Epoch 26/50\n",
            "32/32 [==============================] - 0s 1ms/step - loss: 0.2425 - accuracy: 0.9812\n",
            "Epoch 27/50\n",
            "32/32 [==============================] - 0s 883us/step - loss: 0.2387 - accuracy: 0.9812\n",
            "Epoch 28/50\n",
            "32/32 [==============================] - 0s 1ms/step - loss: 0.2350 - accuracy: 0.9812\n",
            "Epoch 29/50\n",
            "32/32 [==============================] - 0s 1ms/step - loss: 0.2315 - accuracy: 0.9875\n",
            "Epoch 30/50\n",
            "32/32 [==============================] - 0s 993us/step - loss: 0.2281 - accuracy: 0.9875\n",
            "Epoch 31/50\n",
            "32/32 [==============================] - 0s 1ms/step - loss: 0.2247 - accuracy: 0.9875\n",
            "Epoch 32/50\n",
            "32/32 [==============================] - 0s 1ms/step - loss: 0.2215 - accuracy: 0.9875\n",
            "Epoch 33/50\n",
            "32/32 [==============================] - 0s 968us/step - loss: 0.2184 - accuracy: 0.9875\n",
            "Epoch 34/50\n",
            "32/32 [==============================] - 0s 1ms/step - loss: 0.2153 - accuracy: 0.9875\n",
            "Epoch 35/50\n",
            "32/32 [==============================] - 0s 1ms/step - loss: 0.2123 - accuracy: 0.9875\n",
            "Epoch 36/50\n",
            "32/32 [==============================] - 0s 973us/step - loss: 0.2095 - accuracy: 0.9875\n",
            "Epoch 37/50\n",
            "32/32 [==============================] - 0s 1ms/step - loss: 0.2066 - accuracy: 0.9875\n",
            "Epoch 38/50\n",
            "32/32 [==============================] - 0s 965us/step - loss: 0.2039 - accuracy: 0.9875\n",
            "Epoch 39/50\n",
            "32/32 [==============================] - 0s 1ms/step - loss: 0.2013 - accuracy: 0.9875\n",
            "Epoch 40/50\n",
            "32/32 [==============================] - 0s 967us/step - loss: 0.1987 - accuracy: 0.9937\n",
            "Epoch 41/50\n",
            "32/32 [==============================] - 0s 967us/step - loss: 0.1962 - accuracy: 0.9875\n",
            "Epoch 42/50\n",
            "32/32 [==============================] - 0s 958us/step - loss: 0.1937 - accuracy: 0.9937\n",
            "Epoch 43/50\n",
            "32/32 [==============================] - 0s 1ms/step - loss: 0.1914 - accuracy: 0.9937\n",
            "Epoch 44/50\n",
            "32/32 [==============================] - 0s 987us/step - loss: 0.1891 - accuracy: 0.9937\n",
            "Epoch 45/50\n",
            "32/32 [==============================] - 0s 995us/step - loss: 0.1868 - accuracy: 0.9937\n",
            "Epoch 46/50\n",
            "32/32 [==============================] - 0s 989us/step - loss: 0.1846 - accuracy: 0.9937\n",
            "Epoch 47/50\n",
            "32/32 [==============================] - 0s 1ms/step - loss: 0.1824 - accuracy: 0.9937\n",
            "Epoch 48/50\n",
            "32/32 [==============================] - 0s 1ms/step - loss: 0.1803 - accuracy: 0.9937\n",
            "Epoch 49/50\n",
            "32/32 [==============================] - 0s 957us/step - loss: 0.1783 - accuracy: 0.9937\n",
            "Epoch 50/50\n",
            "32/32 [==============================] - 0s 946us/step - loss: 0.1762 - accuracy: 0.9937\n"
          ],
          "name": "stdout"
        },
        {
          "output_type": "execute_result",
          "data": {
            "text/plain": [
              "<tensorflow.python.keras.callbacks.History at 0x7f59f982c550>"
            ]
          },
          "metadata": {
            "tags": []
          },
          "execution_count": 8
        }
      ]
    },
    {
      "cell_type": "markdown",
      "metadata": {
        "id": "1_j8FcH2DBrO",
        "colab_type": "text"
      },
      "source": [
        "##  Binary Cross Entropy and Accuracy"
      ]
    },
    {
      "cell_type": "code",
      "metadata": {
        "id": "KMYrFhjlP6sc",
        "colab_type": "code",
        "outputId": "e3d2bcae-8500-493e-9d5e-91e27c182146",
        "colab": {
          "base_uri": "https://localhost:8080/",
          "height": 35
        }
      },
      "source": [
        "test_loss, test_acc = network.evaluate(data_test, labels_test)"
      ],
      "execution_count": 9,
      "outputs": [
        {
          "output_type": "stream",
          "text": [
            "2/2 [==============================] - 0s 2ms/step - loss: 0.2101 - accuracy: 1.0000\n"
          ],
          "name": "stdout"
        }
      ]
    },
    {
      "cell_type": "code",
      "metadata": {
        "id": "ybbPJfF2da-4",
        "colab_type": "code",
        "outputId": "fb8b0ab0-79a6-4e98-bb09-3f7bdc8e1b3e",
        "colab": {
          "base_uri": "https://localhost:8080/",
          "height": 90
        }
      },
      "source": [
        "print(layer.weights)\n",
        "print(layer.bias)"
      ],
      "execution_count": 10,
      "outputs": [
        {
          "output_type": "stream",
          "text": [
            "[<tf.Variable 'dense/kernel:0' shape=(2, 1) dtype=float32, numpy=\n",
            "array([[ 1.7998269],\n",
            "       [-1.3249344]], dtype=float32)>, <tf.Variable 'dense/bias:0' shape=(1,) dtype=float32, numpy=array([1.9078945], dtype=float32)>]\n",
            "<tf.Variable 'dense/bias:0' shape=(1,) dtype=float32, numpy=array([1.9078945], dtype=float32)>\n"
          ],
          "name": "stdout"
        }
      ]
    },
    {
      "cell_type": "markdown",
      "metadata": {
        "id": "48cn7eZ1TCG5",
        "colab_type": "text"
      },
      "source": [
        "## Formula for extracting seperating line given weights and bias\n",
        "\n",
        "$w_1*x + w_2*y + b = 0$\n",
        "\n",
        "$w_2*y = -w_1*x - b$\n",
        "\n",
        "$y = -w_1*x/w_2 - b/w_2$"
      ]
    },
    {
      "cell_type": "markdown",
      "metadata": {
        "id": "xx1DPwuCtJSv",
        "colab_type": "text"
      },
      "source": [
        "## Plotting network output and heatmap"
      ]
    },
    {
      "cell_type": "code",
      "metadata": {
        "id": "6d59YkXxTfGU",
        "colab_type": "code",
        "outputId": "65c33c46-0759-4b15-f900-888b56d37727",
        "colab": {
          "base_uri": "https://localhost:8080/",
          "height": 320
        }
      },
      "source": [
        "test_b = -layer.bias[0]/layer.weights[0][1][0]\n",
        "test_w = -layer.weights[0][0][0]/layer.weights[0][1][0]\n",
        "# display_random_data(data, labels, w, b, m)\n",
        "print(test_b)\n",
        "print(test_w)\n",
        "ax = plt.subplot(2, 1, 1)\n",
        "plt.plot(np.array([0, 1]), np.array([test_b, test_b+test_w]))\n",
        "display_random_data(data, labels, w, b, m, ax)\n",
        "\n",
        "\n",
        "x = np.linspace(0, 1, 20)\n",
        "y = np.linspace(-1, 5, 20)\n",
        "\n",
        "X, Y = np.meshgrid(x, y)\n",
        "Z = f(X, Y, layer.weights[0][0][0], layer.weights[0][1][0], layer.bias[0])\n",
        "\n",
        "ax = plt.subplot(2, 1, 2)\n",
        "plt.contourf(X, Y, Z, 20, cmap='RdGy')\n",
        "plt.colorbar()"
      ],
      "execution_count": 11,
      "outputs": [
        {
          "output_type": "stream",
          "text": [
            "tf.Tensor(1.4399917, shape=(), dtype=float32)\n",
            "tf.Tensor(1.3584272, shape=(), dtype=float32)\n"
          ],
          "name": "stdout"
        },
        {
          "output_type": "execute_result",
          "data": {
            "text/plain": [
              "<matplotlib.colorbar.Colorbar at 0x7f59f645c860>"
            ]
          },
          "metadata": {
            "tags": []
          },
          "execution_count": 11
        },
        {
          "output_type": "display_data",
          "data": {
            "image/png": "[encoded data removed]",
            "text/plain": [
              "<Figure size 432x288 with 3 Axes>"
            ]
          },
          "metadata": {
            "tags": [],
            "needs_background": "light"
          }
        }
      ]
    },
    {
      "cell_type": "markdown",
      "metadata": {
        "id": "0cL02Pi6pY8S",
        "colab_type": "text"
      },
      "source": [
        "# Manual Logistic Regression (Problem 3)"
      ]
    },
    {
      "cell_type": "markdown",
      "metadata": {
        "id": "oSP9xDx5tRgF",
        "colab_type": "text"
      },
      "source": [
        "## Initialize weights"
      ]
    },
    {
      "cell_type": "code",
      "metadata": {
        "id": "Xfhvf-ZPrj1S",
        "colab_type": "code",
        "colab": {}
      },
      "source": [
        "ws = np.zeros(3)\n",
        "lr = 0.01\n",
        "epochs = 20\n",
        "batch_size = 20"
      ],
      "execution_count": 0,
      "outputs": []
    },
    {
      "cell_type": "markdown",
      "metadata": {
        "id": "OJinG95DFEDr",
        "colab_type": "text"
      },
      "source": [
        "## Loss and accuracy"
      ]
    },
    {
      "cell_type": "code",
      "metadata": {
        "id": "Hw2mF2MwFCuf",
        "colab_type": "code",
        "colab": {}
      },
      "source": [
        "import math\n",
        "def loss(data, labels):\n",
        "  loss = 0\n",
        "  for i in range(0, data.shape[0]):\n",
        "    yh = sigmoid((ws*data[i]).sum())\n",
        "    loss += -labels[i][0]*math.log(yh) - (1-labels[i][0])*math.log(1-yh)\n",
        "  loss /= data.shape[0]\n",
        "  return loss\n",
        "\n",
        "def accuracy(data, labels):\n",
        "  tot = 0\n",
        "  for i in range(0, data.shape[0]):\n",
        "    yh = sigmoid((ws*data[i]).sum())\n",
        "    if (yh > 0.5) == (labels[i][0] == 1):\n",
        "      tot = tot+1\n",
        "  return tot/data.shape[0]"
      ],
      "execution_count": 0,
      "outputs": []
    },
    {
      "cell_type": "markdown",
      "metadata": {
        "id": "mchJZst1tN1c",
        "colab_type": "text"
      },
      "source": [
        "## Run epochs"
      ]
    },
    {
      "cell_type": "code",
      "metadata": {
        "id": "5RXBtQu1QUxg",
        "colab_type": "code",
        "outputId": "c3d1e552-a7ed-4be4-c0a2-07f163e0b0a8",
        "colab": {
          "base_uri": "https://localhost:8080/",
          "height": 384
        }
      },
      "source": [
        "datab = np.hstack((data_train, np.ones((data_train.shape[0], 1))))\n",
        "for epoch in range(0, epochs):\n",
        "  shuffle = np.random.permutation(datab.shape[0])\n",
        "  sample_data = datab[shuffle]\n",
        "  sample_labels = labels_train[shuffle]\n",
        "  for i in range(0, m, batch_size):\n",
        "    datas = sample_data[i:i+batch_size]\n",
        "    label = sample_labels[i:i+batch_size]\n",
        "    ws = (ws - 1 / test * np.sum((np.array([sigmoid(datas.dot(ws))]).T - label)*datas, axis=0))\n",
        "  print(\"loss: \" + str(loss(datab, labels_train)) + \", accuracy: \" + str(accuracy(datab, labels_train)))\n",
        "# loss(datab, labels_train)"
      ],
      "execution_count": 14,
      "outputs": [
        {
          "output_type": "stream",
          "text": [
            "loss: 0.5425797477588744, accuracy: 0.53125\n",
            "loss: 0.4936378448268446, accuracy: 0.7125\n",
            "loss: 0.4509124268447776, accuracy: 0.7875\n",
            "loss: 0.4149520947221418, accuracy: 0.8625\n",
            "loss: 0.3834812364328003, accuracy: 0.925\n",
            "loss: 0.35619161934759935, accuracy: 0.95\n",
            "loss: 0.33189942212402274, accuracy: 0.95625\n",
            "loss: 0.31076873834022495, accuracy: 0.975\n",
            "loss: 0.29209549316185845, accuracy: 0.975\n",
            "loss: 0.27548677784031206, accuracy: 0.975\n",
            "loss: 0.26063938647868884, accuracy: 0.98125\n",
            "loss: 0.2474259130775101, accuracy: 0.9875\n",
            "loss: 0.23531916921516066, accuracy: 0.9875\n",
            "loss: 0.22440797374230242, accuracy: 0.9875\n",
            "loss: 0.21449681097120604, accuracy: 0.9875\n",
            "loss: 0.2054618420290021, accuracy: 0.9875\n",
            "loss: 0.19717707952116678, accuracy: 0.99375\n",
            "loss: 0.18956858487174605, accuracy: 0.99375\n",
            "loss: 0.18253591529965812, accuracy: 0.99375\n",
            "loss: 0.17603545725535558, accuracy: 0.99375\n"
          ],
          "name": "stdout"
        }
      ]
    },
    {
      "cell_type": "markdown",
      "metadata": {
        "id": "LJhqMKggDXz9",
        "colab_type": "text"
      },
      "source": [
        "## Loss and accuracy on test data"
      ]
    },
    {
      "cell_type": "code",
      "metadata": {
        "id": "Z0_zz2uvDXSs",
        "colab_type": "code",
        "colab": {
          "base_uri": "https://localhost:8080/",
          "height": 35
        },
        "outputId": "797b8b44-a977-4a56-ccc9-402cf383ce1f"
      },
      "source": [
        "datab_test = np.hstack((data_test, np.ones((data_test.shape[0], 1))))\n",
        "print(\"test loss: \" + str(loss(datab_test, labels_test)) + \", test accuracy: \" + str(accuracy(datab_test, labels_test)))"
      ],
      "execution_count": 15,
      "outputs": [
        {
          "output_type": "stream",
          "text": [
            "test loss: 0.17550322225897133, test accuracy: 1.0\n"
          ],
          "name": "stdout"
        }
      ]
    },
    {
      "cell_type": "markdown",
      "metadata": {
        "id": "zxk88ngTtWbg",
        "colab_type": "text"
      },
      "source": [
        "# Plot predictions and heatmap"
      ]
    },
    {
      "cell_type": "code",
      "metadata": {
        "id": "XVaLLcU0bZEk",
        "colab_type": "code",
        "outputId": "238e9bec-b833-4755-9789-a7d3f415f3af",
        "colab": {
          "base_uri": "https://localhost:8080/",
          "height": 320
        }
      },
      "source": [
        "test_b = -ws[2]/ws[1]\n",
        "test_w = -ws[0]/ws[1]\n",
        "# display_random_data(data, labels, w, b, m)\n",
        "print(test_b)\n",
        "print(test_w)\n",
        "ax = plt.subplot(2, 1, 1)\n",
        "plt.plot(np.array([0, 1]), np.array([test_b, test_b+test_w]))\n",
        "display_random_data(data, labels, w, b, m, ax)\n",
        "\n",
        "\n",
        "x = np.linspace(0, 1, 20)\n",
        "y = np.linspace(-1, 5, 20)\n",
        "\n",
        "X, Y = np.meshgrid(x, y)\n",
        "Z = f(X, Y, ws[0], ws[1], ws[2])\n",
        "\n",
        "ax = plt.subplot(2, 1, 2)\n",
        "plt.contourf(X, Y, Z, 20, cmap='RdGy')\n",
        "plt.colorbar()"
      ],
      "execution_count": 16,
      "outputs": [
        {
          "output_type": "stream",
          "text": [
            "1.7144128960684837\n",
            "0.8389042759187074\n"
          ],
          "name": "stdout"
        },
        {
          "output_type": "execute_result",
          "data": {
            "text/plain": [
              "<matplotlib.colorbar.Colorbar at 0x7f59f6188630>"
            ]
          },
          "metadata": {
            "tags": []
          },
          "execution_count": 16
        },
        {
          "output_type": "display_data",
          "data": {
            "image/png": "[encoded data removed]",
            "text/plain": [
              "<Figure size 432x288 with 3 Axes>"
            ]
          },
          "metadata": {
            "tags": [],
            "needs_background": "light"
          }
        }
      ]
    }
  ]
}